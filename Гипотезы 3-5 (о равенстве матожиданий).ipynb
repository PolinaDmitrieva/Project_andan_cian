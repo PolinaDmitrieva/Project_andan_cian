{
 "cells": [
  {
   "cell_type": "code",
   "execution_count": 5,
   "id": "18ae4051",
   "metadata": {},
   "outputs": [],
   "source": [
    "import numpy as np\n",
    "import pandas as pd\n",
    "import matplotlib.pyplot as plt\n",
    "import seaborn as sns\n",
    "\n",
    "plt.style.use(\"seaborn\")"
   ]
  },
  {
   "cell_type": "code",
   "execution_count": 6,
   "id": "26f798d2",
   "metadata": {},
   "outputs": [
    {
     "data": {
      "text/html": [
       "<div>\n",
       "<style scoped>\n",
       "    .dataframe tbody tr th:only-of-type {\n",
       "        vertical-align: middle;\n",
       "    }\n",
       "\n",
       "    .dataframe tbody tr th {\n",
       "        vertical-align: top;\n",
       "    }\n",
       "\n",
       "    .dataframe thead th {\n",
       "        text-align: right;\n",
       "    }\n",
       "</style>\n",
       "<table border=\"1\" class=\"dataframe\">\n",
       "  <thead>\n",
       "    <tr style=\"text-align: right;\">\n",
       "      <th></th>\n",
       "      <th>Округ</th>\n",
       "      <th>Ближайшая станция метро</th>\n",
       "      <th>Время до метро</th>\n",
       "      <th>Метро рядом</th>\n",
       "      <th>Застройщик</th>\n",
       "      <th>ЖК</th>\n",
       "      <th>Класс</th>\n",
       "      <th>Тип квартиры</th>\n",
       "      <th>Этаж</th>\n",
       "      <th>Этажей в доме</th>\n",
       "      <th>Отделка</th>\n",
       "      <th>Количество комнат</th>\n",
       "      <th>Площадь квартиры</th>\n",
       "      <th>Жилая площадь</th>\n",
       "      <th>Площадь кухни</th>\n",
       "      <th>Тип дома</th>\n",
       "      <th>Парковка</th>\n",
       "      <th>Год сдачи</th>\n",
       "      <th>Цена</th>\n",
       "      <th>Цена за 1 кв.м</th>\n",
       "    </tr>\n",
       "  </thead>\n",
       "  <tbody>\n",
       "    <tr>\n",
       "      <th>0</th>\n",
       "      <td>СВАО</td>\n",
       "      <td>Марьина роща</td>\n",
       "      <td>17.0</td>\n",
       "      <td>2</td>\n",
       "      <td>Компания Пионер</td>\n",
       "      <td>«PRIDE (Прайд)»</td>\n",
       "      <td>Премиум</td>\n",
       "      <td>квартира</td>\n",
       "      <td>5.0</td>\n",
       "      <td>22.0</td>\n",
       "      <td>Без отделки</td>\n",
       "      <td>1.0</td>\n",
       "      <td>32.20</td>\n",
       "      <td>20.333629</td>\n",
       "      <td>11.724697</td>\n",
       "      <td>Монолитный</td>\n",
       "      <td>Подземная</td>\n",
       "      <td>2025.0</td>\n",
       "      <td>16106665</td>\n",
       "      <td>500206.987578</td>\n",
       "    </tr>\n",
       "    <tr>\n",
       "      <th>1</th>\n",
       "      <td>СЗАО</td>\n",
       "      <td>Трикотажная</td>\n",
       "      <td>4.0</td>\n",
       "      <td>3</td>\n",
       "      <td>СК Резиденс</td>\n",
       "      <td>«ÁLIA (АЛИЯ)»</td>\n",
       "      <td>Бизнес</td>\n",
       "      <td>квартира</td>\n",
       "      <td>2.0</td>\n",
       "      <td>26.0</td>\n",
       "      <td>Неизвестно</td>\n",
       "      <td>1.0</td>\n",
       "      <td>48.06</td>\n",
       "      <td>20.333629</td>\n",
       "      <td>11.724697</td>\n",
       "      <td>Монолитно-кирпичный</td>\n",
       "      <td>Подземная, гостевая</td>\n",
       "      <td>2023.0</td>\n",
       "      <td>16122800</td>\n",
       "      <td>335472.326259</td>\n",
       "    </tr>\n",
       "    <tr>\n",
       "      <th>2</th>\n",
       "      <td>САО</td>\n",
       "      <td>Тимирязевская</td>\n",
       "      <td>3.0</td>\n",
       "      <td>3</td>\n",
       "      <td>MR Group</td>\n",
       "      <td>«SYMPHONY 34 (Симфони 34)»</td>\n",
       "      <td>Премиум</td>\n",
       "      <td>квартира</td>\n",
       "      <td>2.0</td>\n",
       "      <td>36.0</td>\n",
       "      <td>Чистовая</td>\n",
       "      <td>1.0</td>\n",
       "      <td>37.62</td>\n",
       "      <td>12.800000</td>\n",
       "      <td>3.100000</td>\n",
       "      <td>Монолитный</td>\n",
       "      <td>Подземная, гостевая</td>\n",
       "      <td>2025.0</td>\n",
       "      <td>18472662</td>\n",
       "      <td>491033.014354</td>\n",
       "    </tr>\n",
       "    <tr>\n",
       "      <th>3</th>\n",
       "      <td>ЗАО</td>\n",
       "      <td>Фили</td>\n",
       "      <td>5.0</td>\n",
       "      <td>3</td>\n",
       "      <td>Аеон Девелопмент</td>\n",
       "      <td>«River Park Towers Кутузовский (Ривер Парк Тау...</td>\n",
       "      <td>Премиум</td>\n",
       "      <td>квартира</td>\n",
       "      <td>2.0</td>\n",
       "      <td>45.0</td>\n",
       "      <td>Без отделки</td>\n",
       "      <td>1.0</td>\n",
       "      <td>42.80</td>\n",
       "      <td>20.333629</td>\n",
       "      <td>11.724697</td>\n",
       "      <td>Монолитно-кирпичный</td>\n",
       "      <td>Подземная</td>\n",
       "      <td>2026.0</td>\n",
       "      <td>22450632</td>\n",
       "      <td>524547.476636</td>\n",
       "    </tr>\n",
       "    <tr>\n",
       "      <th>4</th>\n",
       "      <td>САО</td>\n",
       "      <td>Белорусская</td>\n",
       "      <td>4.0</td>\n",
       "      <td>3</td>\n",
       "      <td>MR Group</td>\n",
       "      <td>«Комплекс апартаментов Slava (Слава)»</td>\n",
       "      <td>Премиум</td>\n",
       "      <td>апартаменты</td>\n",
       "      <td>2.0</td>\n",
       "      <td>16.0</td>\n",
       "      <td>Предчистовая</td>\n",
       "      <td>1.0</td>\n",
       "      <td>47.90</td>\n",
       "      <td>20.333629</td>\n",
       "      <td>11.724697</td>\n",
       "      <td>Монолитно-кирпичный</td>\n",
       "      <td>Подземная, гостевая</td>\n",
       "      <td>2023.0</td>\n",
       "      <td>25160002</td>\n",
       "      <td>525261.002088</td>\n",
       "    </tr>\n",
       "    <tr>\n",
       "      <th>...</th>\n",
       "      <td>...</td>\n",
       "      <td>...</td>\n",
       "      <td>...</td>\n",
       "      <td>...</td>\n",
       "      <td>...</td>\n",
       "      <td>...</td>\n",
       "      <td>...</td>\n",
       "      <td>...</td>\n",
       "      <td>...</td>\n",
       "      <td>...</td>\n",
       "      <td>...</td>\n",
       "      <td>...</td>\n",
       "      <td>...</td>\n",
       "      <td>...</td>\n",
       "      <td>...</td>\n",
       "      <td>...</td>\n",
       "      <td>...</td>\n",
       "      <td>...</td>\n",
       "      <td>...</td>\n",
       "      <td>...</td>\n",
       "    </tr>\n",
       "    <tr>\n",
       "      <th>1095</th>\n",
       "      <td>НАО (Новомосковский)</td>\n",
       "      <td>Ольховая</td>\n",
       "      <td>17.0</td>\n",
       "      <td>3</td>\n",
       "      <td>Группа Родина</td>\n",
       "      <td>«Russian Design District (Рашен Дизайн Дистрикт)»</td>\n",
       "      <td>Бизнес</td>\n",
       "      <td>квартира</td>\n",
       "      <td>12.0</td>\n",
       "      <td>13.0</td>\n",
       "      <td>Без отделки</td>\n",
       "      <td>1.0</td>\n",
       "      <td>36.90</td>\n",
       "      <td>12.200000</td>\n",
       "      <td>11.400000</td>\n",
       "      <td>Монолитно-кирпичный</td>\n",
       "      <td>Подземная, гостевая</td>\n",
       "      <td>2023.0</td>\n",
       "      <td>11011700</td>\n",
       "      <td>298420.054201</td>\n",
       "    </tr>\n",
       "    <tr>\n",
       "      <th>1096</th>\n",
       "      <td>НАО (Новомосковский)</td>\n",
       "      <td>Рассказовка</td>\n",
       "      <td>2.0</td>\n",
       "      <td>3</td>\n",
       "      <td>Абсолют Недвижимость</td>\n",
       "      <td>«Переделкино Ближнее Город-парк»</td>\n",
       "      <td>Комфорт</td>\n",
       "      <td>квартира</td>\n",
       "      <td>1.0</td>\n",
       "      <td>9.0</td>\n",
       "      <td>Без отделки</td>\n",
       "      <td>2.0</td>\n",
       "      <td>52.40</td>\n",
       "      <td>26.300000</td>\n",
       "      <td>11.724697</td>\n",
       "      <td>Панельный, монолитный</td>\n",
       "      <td>Отдельная многоуровневая, гостевая</td>\n",
       "      <td>2025.0</td>\n",
       "      <td>11043610</td>\n",
       "      <td>210755.916031</td>\n",
       "    </tr>\n",
       "    <tr>\n",
       "      <th>1097</th>\n",
       "      <td>СЗАО</td>\n",
       "      <td>Спартак</td>\n",
       "      <td>5.0</td>\n",
       "      <td>3</td>\n",
       "      <td>ПИК</td>\n",
       "      <td>«Holland park (Холланд парк)»</td>\n",
       "      <td>Комфорт</td>\n",
       "      <td>квартира</td>\n",
       "      <td>2.0</td>\n",
       "      <td>13.0</td>\n",
       "      <td>Без отделки</td>\n",
       "      <td>1.0</td>\n",
       "      <td>34.90</td>\n",
       "      <td>10.600000</td>\n",
       "      <td>16.100000</td>\n",
       "      <td>Монолитный</td>\n",
       "      <td>Подземная, гостевая</td>\n",
       "      <td>2024.0</td>\n",
       "      <td>11191557</td>\n",
       "      <td>320674.985673</td>\n",
       "    </tr>\n",
       "    <tr>\n",
       "      <th>1098</th>\n",
       "      <td>САО</td>\n",
       "      <td>Водники</td>\n",
       "      <td>12.0</td>\n",
       "      <td>3</td>\n",
       "      <td>ДСК-1</td>\n",
       "      <td>«Первый Ленинградский»</td>\n",
       "      <td>Комфорт</td>\n",
       "      <td>квартира</td>\n",
       "      <td>2.0</td>\n",
       "      <td>14.0</td>\n",
       "      <td>Предчистовая</td>\n",
       "      <td>2.0</td>\n",
       "      <td>52.90</td>\n",
       "      <td>25.500000</td>\n",
       "      <td>10.600000</td>\n",
       "      <td>Панельный</td>\n",
       "      <td>Отдельная многоуровневая, гостевая</td>\n",
       "      <td>2023.0</td>\n",
       "      <td>11148781</td>\n",
       "      <td>210752.003781</td>\n",
       "    </tr>\n",
       "    <tr>\n",
       "      <th>1099</th>\n",
       "      <td>СЗАО</td>\n",
       "      <td>Пятницкое шоссе</td>\n",
       "      <td>4.0</td>\n",
       "      <td>3</td>\n",
       "      <td>ПИК</td>\n",
       "      <td>«Митинский лес»</td>\n",
       "      <td>Комфорт</td>\n",
       "      <td>квартира</td>\n",
       "      <td>6.0</td>\n",
       "      <td>32.0</td>\n",
       "      <td>Чистовая</td>\n",
       "      <td>2.0</td>\n",
       "      <td>50.80</td>\n",
       "      <td>20.600000</td>\n",
       "      <td>17.900000</td>\n",
       "      <td>Монолитный</td>\n",
       "      <td>Гостевая</td>\n",
       "      <td>2025.0</td>\n",
       "      <td>11154359</td>\n",
       "      <td>219573.996063</td>\n",
       "    </tr>\n",
       "  </tbody>\n",
       "</table>\n",
       "<p>1100 rows × 20 columns</p>\n",
       "</div>"
      ],
      "text/plain": [
       "                      Округ Ближайшая станция метро  Время до метро  \\\n",
       "0                      СВАО            Марьина роща            17.0   \n",
       "1                      СЗАО             Трикотажная             4.0   \n",
       "2                       САО           Тимирязевская             3.0   \n",
       "3                       ЗАО                    Фили             5.0   \n",
       "4                       САО             Белорусская             4.0   \n",
       "...                     ...                     ...             ...   \n",
       "1095   НАО (Новомосковский)                Ольховая            17.0   \n",
       "1096   НАО (Новомосковский)             Рассказовка             2.0   \n",
       "1097                   СЗАО                 Спартак             5.0   \n",
       "1098                    САО                 Водники            12.0   \n",
       "1099                   СЗАО         Пятницкое шоссе             4.0   \n",
       "\n",
       "      Метро рядом            Застройщик  \\\n",
       "0               2       Компания Пионер   \n",
       "1               3           СК Резиденс   \n",
       "2               3              MR Group   \n",
       "3               3      Аеон Девелопмент   \n",
       "4               3              MR Group   \n",
       "...           ...                   ...   \n",
       "1095            3         Группа Родина   \n",
       "1096            3  Абсолют Недвижимость   \n",
       "1097            3                   ПИК   \n",
       "1098            3                 ДСК-1   \n",
       "1099            3                   ПИК   \n",
       "\n",
       "                                                     ЖК    Класс Тип квартиры  \\\n",
       "0                                       «PRIDE (Прайд)»  Премиум     квартира   \n",
       "1                                         «ÁLIA (АЛИЯ)»   Бизнес     квартира   \n",
       "2                            «SYMPHONY 34 (Симфони 34)»  Премиум     квартира   \n",
       "3     «River Park Towers Кутузовский (Ривер Парк Тау...  Премиум     квартира   \n",
       "4                 «Комплекс апартаментов Slava (Слава)»  Премиум  апартаменты   \n",
       "...                                                 ...      ...          ...   \n",
       "1095  «Russian Design District (Рашен Дизайн Дистрикт)»   Бизнес     квартира   \n",
       "1096                   «Переделкино Ближнее Город-парк»  Комфорт     квартира   \n",
       "1097                      «Holland park (Холланд парк)»  Комфорт     квартира   \n",
       "1098                             «Первый Ленинградский»  Комфорт     квартира   \n",
       "1099                                    «Митинский лес»  Комфорт     квартира   \n",
       "\n",
       "      Этаж  Этажей в доме       Отделка  Количество комнат  Площадь квартиры  \\\n",
       "0      5.0           22.0   Без отделки                1.0             32.20   \n",
       "1      2.0           26.0    Неизвестно                1.0             48.06   \n",
       "2      2.0           36.0      Чистовая                1.0             37.62   \n",
       "3      2.0           45.0   Без отделки                1.0             42.80   \n",
       "4      2.0           16.0  Предчистовая                1.0             47.90   \n",
       "...    ...            ...           ...                ...               ...   \n",
       "1095  12.0           13.0   Без отделки                1.0             36.90   \n",
       "1096   1.0            9.0   Без отделки                2.0             52.40   \n",
       "1097   2.0           13.0   Без отделки                1.0             34.90   \n",
       "1098   2.0           14.0  Предчистовая                2.0             52.90   \n",
       "1099   6.0           32.0      Чистовая                2.0             50.80   \n",
       "\n",
       "      Жилая площадь  Площадь кухни               Тип дома  \\\n",
       "0         20.333629      11.724697             Монолитный   \n",
       "1         20.333629      11.724697    Монолитно-кирпичный   \n",
       "2         12.800000       3.100000             Монолитный   \n",
       "3         20.333629      11.724697    Монолитно-кирпичный   \n",
       "4         20.333629      11.724697    Монолитно-кирпичный   \n",
       "...             ...            ...                    ...   \n",
       "1095      12.200000      11.400000    Монолитно-кирпичный   \n",
       "1096      26.300000      11.724697  Панельный, монолитный   \n",
       "1097      10.600000      16.100000             Монолитный   \n",
       "1098      25.500000      10.600000              Панельный   \n",
       "1099      20.600000      17.900000             Монолитный   \n",
       "\n",
       "                                Парковка  Год сдачи      Цена  Цена за 1 кв.м  \n",
       "0                              Подземная     2025.0  16106665   500206.987578  \n",
       "1                    Подземная, гостевая     2023.0  16122800   335472.326259  \n",
       "2                    Подземная, гостевая     2025.0  18472662   491033.014354  \n",
       "3                              Подземная     2026.0  22450632   524547.476636  \n",
       "4                    Подземная, гостевая     2023.0  25160002   525261.002088  \n",
       "...                                  ...        ...       ...             ...  \n",
       "1095                 Подземная, гостевая     2023.0  11011700   298420.054201  \n",
       "1096  Отдельная многоуровневая, гостевая     2025.0  11043610   210755.916031  \n",
       "1097                 Подземная, гостевая     2024.0  11191557   320674.985673  \n",
       "1098  Отдельная многоуровневая, гостевая     2023.0  11148781   210752.003781  \n",
       "1099                            Гостевая     2025.0  11154359   219573.996063  \n",
       "\n",
       "[1100 rows x 20 columns]"
      ]
     },
     "execution_count": 6,
     "metadata": {},
     "output_type": "execute_result"
    }
   ],
   "source": [
    "#открываем файл с данными без пропусков и с добавленной колонкой с ценой за 1 кв.м\n",
    "data_without_miss = pd.read_csv('data_without_miss.csv') \n",
    "data_without_miss"
   ]
  },
  {
   "cell_type": "markdown",
   "id": "46ae6c2e",
   "metadata": {},
   "source": [
    "## Гипотеза о \"равенстве математических ожиданий цен на апартаменты/апартаменты-студии и другие типы квартир\""
   ]
  },
  {
   "cell_type": "markdown",
   "id": "282f3dce",
   "metadata": {},
   "source": [
    "Для определения подходящей статистики проведем дополнительное исследование на нормальность сравниваемых нами выборок с помощью ***теста Шапиро-Уилка*** (https://www.codecamp.ru/blog/shapiro-wilk-test-python/):"
   ]
  },
  {
   "cell_type": "markdown",
   "id": "4c833065",
   "metadata": {},
   "source": [
    "**Тест Шапиро-Уилка**"
   ]
  },
  {
   "cell_type": "markdown",
   "id": "d97a3f01",
   "metadata": {},
   "source": [
    "\n",
    "\n",
    "$$\n",
    "\\begin{aligned}\n",
    "& H_0: Данные \\ выборки \\ имеют \\ нормальное \\ распределение \\\\\n",
    "& H_1: Данные \\ выборки \\ НЕ \\ имеют \\ нормальное \\ распределение\n",
    "\\end{aligned}\n",
    "$$"
   ]
  },
  {
   "cell_type": "code",
   "execution_count": 30,
   "id": "e8bfca4c",
   "metadata": {},
   "outputs": [
    {
     "name": "stdout",
     "output_type": "stream",
     "text": [
      "P-value апартаментов/апартаментов-студий: 3.480594447640567e-13\n",
      "P-value других квартир: 1.4073258858366863e-17\n"
     ]
    }
   ],
   "source": [
    "apartments = data_without_miss[(data_without_miss['Тип квартиры'] == 'апартаменты') | (data_without_miss['Тип квартиры'] == 'Апартаменты-студия')]['Цена за 1 кв.м']\n",
    "other = data_without_miss[(data_without_miss['Тип квартиры'] == 'квартира') | (data_without_miss['Тип квартиры'] == 'Студия')]['Цена за 1 кв.м']\n",
    "from scipy import stats\n",
    "shapiro_apartments = stats.shapiro(apartments)\n",
    "shapiro_other = stats.shapiro(other)\n",
    "print(f'P-value апартаментов/апартаментов-студий: {shapiro_apartments[1]}')\n",
    "print(f'P-value других квартир: {shapiro_other[1]}')"
   ]
  },
  {
   "cell_type": "markdown",
   "id": "e4405e52",
   "metadata": {},
   "source": [
    "Исходя из результатов данного теста, можно сделать вывод о том, что у нас достаточно доказательств для отвержения нулевой гипотезы — *данные обеих выборок не имеют нормального распределения*, потому что значения их p-value гораздо меньше 0.05."
   ]
  },
  {
   "cell_type": "markdown",
   "id": "b971fe42",
   "metadata": {},
   "source": [
    "**Критерий Уилкоксона**"
   ]
  },
  {
   "cell_type": "markdown",
   "id": "ac59cc10",
   "metadata": {},
   "source": [
    "Так как нормальность выборок не подтвердилась, а значит предпосылки для использования t-статистики не были выполнены, то прибегнем к использованию ***Критерия Уилкоксона*** (в силу того, что наши выборки зависимы). \n",
    "\n",
    "Для начала проверим, что размеры исследуемых выборок малы (<25) (https://ru.wikipedia.org/wiki/%D0%9A%D1%80%D0%B8%D1%82%D0%B5%D1%80%D0%B8%D0%B9_%D0%A3%D0%B8%D0%BB%D0%BA%D0%BE%D0%BA%D1%81%D0%BE%D0%BD%D0%B0#%D0%9E%D0%B3%D1%80%D0%B0%D0%BD%D0%B8%D1%87%D0%B5%D0%BD%D0%B8%D1%8F_%D0%BA%D1%80%D0%B8%D1%82%D0%B5%D1%80%D0%B8%D1%8F): "
   ]
  },
  {
   "cell_type": "code",
   "execution_count": 10,
   "id": "7ca0da17",
   "metadata": {},
   "outputs": [
    {
     "name": "stdout",
     "output_type": "stream",
     "text": [
      "Длина выборки апартаментов/апартаментов-студий: 114\n",
      "Длина выборки других квартир: 664\n"
     ]
    }
   ],
   "source": [
    "n = len(apartments)\n",
    "m = len(other)\n",
    "print(f'Длина выборки апартаментов/апартаментов-студий: {n}')\n",
    "print(f'Длина выборки других квартир: {m}')"
   ]
  },
  {
   "cell_type": "markdown",
   "id": "930a9752",
   "metadata": {},
   "source": [
    "Уверенно критерий Уилкоксона можно использовать при объёме выборки до 25 элементов, потому что в случае большего числа наблюдений распределение значений данного критерия стремительно приближается к нормальному. У нас же объёмы обеих выборок явно больше требуемого значения.Вот почему становится необходимым прибегнуть к преобразованию критерия Уилкоксона в величину ***z (z-score)*** (https://www.codecamp.ru/blog/z-score-python/). "
   ]
  },
  {
   "cell_type": "markdown",
   "id": "b4d3d03d",
   "metadata": {},
   "source": [
    "**Z-score**"
   ]
  },
  {
   "cell_type": "markdown",
   "id": "c7f49b46",
   "metadata": {},
   "source": [
    "Для проверки гипотезы о том, что  𝜇\n",
    "  цен апартаментов равно  𝜇\n",
    "  цен обычных квартир, воспользуемся z-статистикой, так как мы не знаем дисперсии наших данных."
   ]
  },
  {
   "cell_type": "markdown",
   "id": "7d7928fd",
   "metadata": {},
   "source": [
    "Сформулируем гипотезы:\n",
    "\n",
    "$$\n",
    "\\begin{aligned}\n",
    "& H_0: \\mu_{apartments} = \\mu_{other} \\\\\n",
    "& H_1: \\mu_{apartments} \\neq \\mu_{other}\n",
    "\\end{aligned}\n",
    "$$"
   ]
  },
  {
   "cell_type": "markdown",
   "id": "0c2f28a9",
   "metadata": {},
   "source": [
    "Уровень значимости: $5\\%$"
   ]
  },
  {
   "cell_type": "markdown",
   "id": "d1091821",
   "metadata": {},
   "source": [
    "*Формула z-статистики:*\n",
    "\n",
    "$$\n",
    "z = \\frac {\\bar{X} - \\bar{Y} - \\mu_0}{\\sqrt{\\frac {\\hat{\\sigma}_X^2}{n} + {\\frac {\\hat{\\sigma}_Y^2}{m}}}}\n",
    "$$"
   ]
  },
  {
   "cell_type": "code",
   "execution_count": 14,
   "id": "5fce413f",
   "metadata": {},
   "outputs": [
    {
     "data": {
      "text/plain": [
       "-0.4175545840930239"
      ]
     },
     "execution_count": 14,
     "metadata": {},
     "output_type": "execute_result"
    }
   ],
   "source": [
    "mean_apartments = apartments.mean()\n",
    "mean_other = other.mean()\n",
    "n = len(apartments)\n",
    "m = len(other)\n",
    "import statistics as st\n",
    "var_apartments = st.variance(apartments)\n",
    "var_other = st.variance(other)\n",
    "z_test = (mean_apartments - mean_other - 0)/(np.sqrt(var_apartments/n + var_other/m))\n",
    "z_test"
   ]
  },
  {
   "cell_type": "code",
   "execution_count": 15,
   "id": "7820da34",
   "metadata": {},
   "outputs": [
    {
     "name": "stdout",
     "output_type": "stream",
     "text": [
      "Нет оснований отвергать H0\n"
     ]
    }
   ],
   "source": [
    "alpha = 0.05\n",
    "from scipy import stats\n",
    "z_crit = stats.norm.ppf(1-alpha/2)\n",
    "if z_test < -z_crit or z_test > z_crit:\n",
    "    print(\"H0 отвергается\")\n",
    "else:\n",
    "    print(\"Нет оснований отвергать H0\")"
   ]
  },
  {
   "cell_type": "markdown",
   "id": "107217ee",
   "metadata": {},
   "source": [
    "**Вывод**: Мы видим, что полученное нами значение меньше критического значения Z, поэтому результаты теста являются статистически не значимыми. Вот почему у нас нет оснований для того, чтобы отвергнуть нулевую гипотезу, а значит математическое ожидание цен апартаментов/апартаментов-студий действительно равно математическому ожиданию цен других квартир, то есть их средние цены одинаковые."
   ]
  },
  {
   "cell_type": "markdown",
   "id": "f8b1ff49",
   "metadata": {},
   "source": [
    "## Гипотеза о \"равенстве математических ожиданий цен на апартаменты и обычные квартиры\""
   ]
  },
  {
   "cell_type": "markdown",
   "id": "9025249f",
   "metadata": {},
   "source": [
    "Для определения нормальности распределения выборок теперь воспользуемся ***тестом Колмогорова-Смирнова*** (https://www.codecamp.ru/blog/kolmogorov-smirnov-test-python/):"
   ]
  },
  {
   "cell_type": "markdown",
   "id": "6dec9faa",
   "metadata": {},
   "source": [
    "**Тест Колмогорова-Смирнова**"
   ]
  },
  {
   "cell_type": "markdown",
   "id": "590e3913",
   "metadata": {},
   "source": [
    "\n",
    "\n",
    "$$\n",
    "\\begin{aligned}\n",
    "& H_0: Данные \\ выборки \\ имеют \\ нормальное \\ распределение \\\\\n",
    "& H_1: Данные \\ выборки \\ НЕ \\ имеют \\ нормальное \\ распределение\n",
    "\\end{aligned}\n",
    "$$"
   ]
  },
  {
   "cell_type": "code",
   "execution_count": 32,
   "id": "9fafdbe8",
   "metadata": {},
   "outputs": [
    {
     "name": "stdout",
     "output_type": "stream",
     "text": [
      "P-value апартаментов: 0.01459675665042759\n",
      "P-value обычных квартир: 0.0008681066342900275\n"
     ]
    }
   ],
   "source": [
    "apartment = data_without_miss[data_without_miss['Тип квартиры'] == 'апартаменты']['Цена за 1 кв.м']\n",
    "ordinary = data_without_miss[data_without_miss['Тип квартиры'] == 'квартира']['Цена за 1 кв.м']\n",
    "mean_apartment = apartment.mean()\n",
    "mean_ordinary = ordinary.mean()\n",
    "std_apartment = apartment.std(ddof=1)\n",
    "std_ordinary = ordinary.std(ddof=1)\n",
    "ks_apartment = stats.kstest(apartment, 'norm', args=(mean_apartment, std_apartment))\n",
    "ks_ordinary = stats.kstest(ordinary, 'norm', args=(mean_ordinary, std_ordinary))\n",
    "print(f'P-value апартаментов: {ks_apartment[1]}')\n",
    "print(f'P-value обычных квартир: {ks_ordinary[1]}')"
   ]
  },
  {
   "cell_type": "markdown",
   "id": "de96fbad",
   "metadata": {},
   "source": [
    "Мы видим, что у нас достаточно доказательств для отвержения нулевой гипотезы — *данные обеих выборок не имеют нормального распределения* (p-value меньше 0.05)."
   ]
  },
  {
   "cell_type": "markdown",
   "id": "bee3897e",
   "metadata": {},
   "source": [
    "**Критерий Уилкоксона**"
   ]
  },
  {
   "cell_type": "markdown",
   "id": "fa3647e2",
   "metadata": {},
   "source": [
    "Так как нормальность выборок не подтвердилась, а значит предпосылки для использования t-статистики не были выполнены, прибегнем к использованию ***Критерия Уилкоксона*** (в силу того, что наши выборки зависимы). \n",
    "\n",
    "Снова проверим их объем (<25): "
   ]
  },
  {
   "cell_type": "code",
   "execution_count": 72,
   "id": "7c0d3c6e",
   "metadata": {},
   "outputs": [
    {
     "name": "stdout",
     "output_type": "stream",
     "text": [
      "Длина выборки апартаментов: 114\n",
      "Длина выборки обычных квартир: 664\n"
     ]
    }
   ],
   "source": [
    "n = len(apartment)\n",
    "m = len(ordinary)\n",
    "print(f'Длина выборки апартаментов: {n}')\n",
    "print(f'Длина выборки обычных квартир: {m}')"
   ]
  },
  {
   "cell_type": "markdown",
   "id": "8b93f685",
   "metadata": {},
   "source": [
    "Мы понимаем, что полученные значения явно больше 25 — это вынуждает нас вновь использовать ***z (z-score)***. "
   ]
  },
  {
   "cell_type": "markdown",
   "id": "42f27d40",
   "metadata": {},
   "source": [
    "**Z-score**"
   ]
  },
  {
   "cell_type": "markdown",
   "id": "0e3228ec",
   "metadata": {},
   "source": [
    "Для проверки гипотезы о том, что  𝜇\n",
    "  цен апартаментов равно  𝜇\n",
    "  цен обычных квартир, воспользуемся z-статистикой, так как мы не знаем дисперсий наших данных."
   ]
  },
  {
   "cell_type": "markdown",
   "id": "2f51bc34",
   "metadata": {},
   "source": [
    "Сформулируем гипотезы:\n",
    "\n",
    "$$\n",
    "\\begin{aligned}\n",
    "& H_0: \\mu_{apartment} = \\mu_{ordinary} \\\\\n",
    "& H_1: \\mu_{apartment} \\neq \\mu_{ordinary}\n",
    "\\end{aligned}\n",
    "$$"
   ]
  },
  {
   "cell_type": "markdown",
   "id": "1b285a2f",
   "metadata": {},
   "source": [
    "Уровень значимости: $5\\%$"
   ]
  },
  {
   "cell_type": "markdown",
   "id": "c0b81115",
   "metadata": {},
   "source": [
    "*Формула z-статистики:*\n",
    "\n",
    "$$\n",
    "z = \\frac {\\bar{X} - \\bar{Y} - \\mu_0}{\\sqrt{\\frac {\\hat{\\sigma}_X^2}{n} + {\\frac {\\hat{\\sigma}_Y^2}{m}}}}\n",
    "$$"
   ]
  },
  {
   "cell_type": "code",
   "execution_count": 58,
   "id": "1ae8ca01",
   "metadata": {},
   "outputs": [
    {
     "data": {
      "text/plain": [
       "-0.4175545840930239"
      ]
     },
     "execution_count": 58,
     "metadata": {},
     "output_type": "execute_result"
    }
   ],
   "source": [
    "mean_apartment = apartment.mean()\n",
    "mean_ordinary = ordinary.mean()\n",
    "n = len(apartment)\n",
    "m = len(ordinary)\n",
    "import statistics as st\n",
    "var_apartment = st.variance(apartment)\n",
    "var_ordinary = st.variance(ordinary)\n",
    "z_test = (mean_apartment - mean_ordinary - 0)/(np.sqrt(var_apartment/n +var_ordinary/m))\n",
    "z_test"
   ]
  },
  {
   "cell_type": "code",
   "execution_count": 59,
   "id": "502e20b1",
   "metadata": {},
   "outputs": [
    {
     "name": "stdout",
     "output_type": "stream",
     "text": [
      "Нет оснований отвергать H0\n"
     ]
    }
   ],
   "source": [
    "alpha = 0.05\n",
    "from scipy import stats\n",
    "z_crit = stats.norm.ppf(1-alpha/2)\n",
    "if z_test < -z_crit or z_test > z_crit:\n",
    "    print(\"H0 отвергается\")\n",
    "else:\n",
    "    print(\"Нет оснований отвергать H0\")"
   ]
  },
  {
   "cell_type": "markdown",
   "id": "bdd12d06",
   "metadata": {},
   "source": [
    "**Вывод**: Мы видим, что полученное нами значение больше левостороннего критического значения Z, поэтому результаты теста являются статистически не значимыми. Вот почему у нас нет оснований для того, чтобы отвергнуть нулевую гипотезу, а значит математическое ожидание цен апартаментов действительно равно математическому ожиданию цен обычных квартир, то есть их средние цены одинаковые."
   ]
  },
  {
   "cell_type": "markdown",
   "id": "24a7f33c",
   "metadata": {},
   "source": [
    "## Гипотеза о \"равенстве математических ожиданий цен на квартиры с отделкой и без неё\""
   ]
  },
  {
   "cell_type": "markdown",
   "id": "0bba67df",
   "metadata": {},
   "source": [
    "Для определения подходящей статистики опять проведем дополнительное исследование на нормальность сравниваемых нами выборок с помощью ***теста Шапиро-Уилка***:"
   ]
  },
  {
   "cell_type": "markdown",
   "id": "ee89540d",
   "metadata": {},
   "source": [
    "**Тест Шапиро-Уилка**"
   ]
  },
  {
   "cell_type": "markdown",
   "id": "3155cbd7",
   "metadata": {},
   "source": [
    "\n",
    "\n",
    "$$\n",
    "\\begin{aligned}\n",
    "& H_0: Данные \\ выборки \\ имеют \\ нормальное \\ распределение \\\\\n",
    "& H_1: Данные \\ выборки \\ НЕ \\ имеют \\ нормальное \\ распределение\n",
    "\\end{aligned}\n",
    "$$"
   ]
  },
  {
   "cell_type": "code",
   "execution_count": 33,
   "id": "4314f072",
   "metadata": {},
   "outputs": [
    {
     "name": "stdout",
     "output_type": "stream",
     "text": [
      "P-value квартир с отделкой: 6.597828986547383e-25\n",
      "P-value квартир без отделки: 2.4431611223008076e-07\n"
     ]
    }
   ],
   "source": [
    "fine_finish = data_without_miss[data_without_miss['Отделка'] == 'Чистовая']['Цена за 1 кв.м']\n",
    "without_finishing = data_without_miss[data_without_miss['Отделка'] == 'Без отделки']['Цена за 1 кв.м']\n",
    "shapiro_fine_finish = stats.shapiro(fine_finish)\n",
    "shapiro_without_finishing = stats.shapiro(without_finishing)\n",
    "print(f'P-value квартир с отделкой: {shapiro_fine_finish[1]}')\n",
    "print(f'P-value квартир без отделки: {shapiro_without_finishing[1]}')"
   ]
  },
  {
   "cell_type": "markdown",
   "id": "b649a40f",
   "metadata": {},
   "source": [
    "Исходя из результатов данного теста, можно сделать вывод о том, что у нас достаточно доказательств для отвержения нулевой гипотезы — *данные обеих выборок не имеют нормального распределения*, потому что значения их p-value гораздо меньше 0.05."
   ]
  },
  {
   "cell_type": "markdown",
   "id": "282d7c52",
   "metadata": {},
   "source": [
    "**Критерий Уилкоксона**"
   ]
  },
  {
   "cell_type": "markdown",
   "id": "a28a2ce2",
   "metadata": {},
   "source": [
    "Так как нормальность выборок не подтвердилась, а значит предпосылки для использования t-статистики не были выполнены, то прибегнем к использованию ***Критерия Уилкоксона*** (в силу того, что наши выборки зависимы). \n",
    "\n",
    "Для начала проверим, что размеры исследуемых выборок малы (<25): "
   ]
  },
  {
   "cell_type": "code",
   "execution_count": 20,
   "id": "d6f0c20a",
   "metadata": {},
   "outputs": [
    {
     "name": "stdout",
     "output_type": "stream",
     "text": [
      "Длина выборки квартир с чистовой отделкой: 444\n",
      "Длина выборки квартир без отделки: 389\n"
     ]
    }
   ],
   "source": [
    "n = len(fine_finish)\n",
    "m = len(without_finishing)\n",
    "print(f'Длина выборки квартир с чистовой отделкой: {n}')\n",
    "print(f'Длина выборки квартир без отделки: {m}')"
   ]
  },
  {
   "cell_type": "markdown",
   "id": "5b07f5e7",
   "metadata": {},
   "source": [
    "Полученные значения оказались больше 25, следовательно, переходим к ***z (z-score)***. "
   ]
  },
  {
   "cell_type": "markdown",
   "id": "5009963e",
   "metadata": {},
   "source": [
    "**Z-score**"
   ]
  },
  {
   "cell_type": "markdown",
   "id": "a91c1edc",
   "metadata": {},
   "source": [
    "Для того чтобы подтвердить или опровергнуть гипотезу о том, что  𝜇\n",
    "  цен квартир с отделкой равно  𝜇\n",
    "  цен квартир без отделки, воспользуемся z-статистикой, так как дисперсии выборок нам неизвестны."
   ]
  },
  {
   "cell_type": "markdown",
   "id": "aba4c255",
   "metadata": {},
   "source": [
    "Сформулируем гипотезы:\n",
    "\n",
    "$$\n",
    "\\begin{aligned}\n",
    "& H_0: \\mu_{с \\ отделкой} = \\mu_{без \\ отделки} \\\\\n",
    "& H_1: \\mu_{с \\ отделкой} \\neq \\mu_{без \\ отделки}\n",
    "\\end{aligned}\n",
    "$$"
   ]
  },
  {
   "cell_type": "markdown",
   "id": "6258a283",
   "metadata": {},
   "source": [
    "Уровень значимости: $5\\%$"
   ]
  },
  {
   "cell_type": "markdown",
   "id": "5a2be7de",
   "metadata": {},
   "source": [
    "*Формула z-статистики:*\n",
    "\n",
    "$$\n",
    "z = \\frac {\\bar{X} - \\bar{Y} - \\mu_0}{\\sqrt{\\frac {\\hat{\\sigma}_X^2}{n} + {\\frac {\\hat{\\sigma}_Y^2}{m}}}}\n",
    "$$"
   ]
  },
  {
   "cell_type": "markdown",
   "id": "56ca0671",
   "metadata": {},
   "source": [
    "Возьмем квартиры \"без отделки\" и с \"чистовой\" отделкой\", так как \"предчистовая\" отделка является промежуточным вариантом и нельзя точно сказать, на сколько в дальнейшем вырастет цена полностью отделанной квартиры."
   ]
  },
  {
   "cell_type": "code",
   "execution_count": 21,
   "id": "1a5ae339",
   "metadata": {},
   "outputs": [
    {
     "data": {
      "text/plain": [
       "-8.862186715477845"
      ]
     },
     "execution_count": 21,
     "metadata": {},
     "output_type": "execute_result"
    }
   ],
   "source": [
    "mean_fine_finish = fine_finish.mean()\n",
    "mean_without_finishing = without_finishing.mean()\n",
    "n = len(fine_finish)\n",
    "m = len(without_finishing)\n",
    "import statistics as st\n",
    "var_fine_finish = st.variance(fine_finish)\n",
    "var_without_finishing = st.variance(without_finishing)\n",
    "z_test = (mean_fine_finish - mean_without_finishing - 0)/(np.sqrt(var_fine_finish/n +var_without_finishing/m))\n",
    "z_test"
   ]
  },
  {
   "cell_type": "code",
   "execution_count": 22,
   "id": "8c7fdf7f",
   "metadata": {},
   "outputs": [
    {
     "name": "stdout",
     "output_type": "stream",
     "text": [
      "H0 отвергается\n"
     ]
    }
   ],
   "source": [
    "alpha = 0.05\n",
    "from scipy import stats\n",
    "z_crit = stats.norm.ppf(1-alpha/2)\n",
    "if z_test < -z_crit or z_test > z_crit:\n",
    "    print(\"H0 отвергается\")\n",
    "else:\n",
    "    print(\"Нет оснований отвергать H0\")"
   ]
  },
  {
   "cell_type": "markdown",
   "id": "9f7016ba",
   "metadata": {},
   "source": [
    "**Вывод**: Полученное значение больше левостороннего критического значения Z, поэтому результаты теста являются статистически значимыми. Следовательно, нулевая гипотеза о том, что средняя цена квартиры с отделкой равна средней цене квартиры без отделки отвергается в пользу альтернативной. "
   ]
  }
 ],
 "metadata": {
  "kernelspec": {
   "display_name": "Python 3 (ipykernel)",
   "language": "python",
   "name": "python3"
  },
  "language_info": {
   "codemirror_mode": {
    "name": "ipython",
    "version": 3
   },
   "file_extension": ".py",
   "mimetype": "text/x-python",
   "name": "python",
   "nbconvert_exporter": "python",
   "pygments_lexer": "ipython3",
   "version": "3.9.7"
  }
 },
 "nbformat": 4,
 "nbformat_minor": 5
}
