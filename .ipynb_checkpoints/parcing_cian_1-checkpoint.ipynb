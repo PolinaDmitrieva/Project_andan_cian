{
 "cells": [
  {
   "cell_type": "code",
   "execution_count": 2,
   "id": "b2667e84",
   "metadata": {},
   "outputs": [],
   "source": [
    "from selenium import webdriver\n",
    "import pandas as pd\n",
    "import numpy as np\n",
    "from selenium.webdriver.common.by import By\n",
    "import time \n",
    "from selenium.webdriver import Chrome "
   ]
  },
  {
   "cell_type": "code",
   "execution_count": 153,
   "id": "985663e0",
   "metadata": {},
   "outputs": [],
   "source": [
    "# ссылка с которой будем парсить\n",
    "url = 'https://www.cian.ru/cat.php?currency=2&deal_type=sale&engine_version=2&maxprice=35000000&object_type%5B0%5D=2&offer_type=flat&region=1&room1=1&room2=1&room3=1&room4=1&room7=1&room9=1'\n"
   ]
  },
  {
   "cell_type": "code",
   "execution_count": 155,
   "id": "ecd3d788",
   "metadata": {},
   "outputs": [],
   "source": [
    "# открываем браузер и переходим по ссылке\n",
    "driver = webdriver.Chrome()\n",
    "driver.get(url)\n"
   ]
  },
  {
   "cell_type": "code",
   "execution_count": 156,
   "id": "032ee9ac",
   "metadata": {},
   "outputs": [
    {
     "data": {
      "text/plain": [
       "28"
      ]
     },
     "execution_count": 156,
     "metadata": {},
     "output_type": "execute_result"
    }
   ],
   "source": [
    "# пробуем достать объявления с одной страницы\n",
    "flats = driver.find_elements(By.CLASS_NAME, '_93444fe79c--media--9P6wN')\n",
    "len(flats)"
   ]
  },
  {
   "cell_type": "code",
   "execution_count": 157,
   "id": "4807e8ca",
   "metadata": {},
   "outputs": [],
   "source": [
    "# пробуем открыть объявление\n",
    "page = flats[0].click()"
   ]
  },
  {
   "cell_type": "code",
   "execution_count": 158,
   "id": "858babc2",
   "metadata": {},
   "outputs": [],
   "source": [
    "# переходим во вкладку с объявлением \n",
    "driver.switch_to.window(driver.window_handles[1])"
   ]
  },
  {
   "cell_type": "code",
   "execution_count": 111,
   "id": "d1d1ce6f",
   "metadata": {},
   "outputs": [],
   "source": [
    "# пытаемся достать информацию о местонаождении квартиры\n",
    "address = [x.text for x in driver.find_elements(By.CLASS_NAME, 'a10a3f92e9--address-line--GRDTb')]\n",
    "address = address[0].split(',')[1]\n"
   ]
  },
  {
   "cell_type": "code",
   "execution_count": 131,
   "id": "ba829ca0",
   "metadata": {},
   "outputs": [],
   "source": [
    "# вытаскиваем список метро и время до каждого метро\n",
    "metro = [x.text for x in driver.find_elements(By.CLASS_NAME, 'a10a3f92e9--underground--pjGNr')]\n",
    "metro = [x.split('\\n') for x in metro]\n",
    "metro_res = {}\n",
    "for i in metro:\n",
    "    m = int(i[1].split()[0])\n",
    "    metro_res[i[0]] = m\n"
   ]
  },
  {
   "cell_type": "code",
   "execution_count": 68,
   "id": "b218ca3a",
   "metadata": {},
   "outputs": [
    {
     "data": {
      "text/plain": [
       "[]"
      ]
     },
     "execution_count": 68,
     "metadata": {},
     "output_type": "execute_result"
    }
   ],
   "source": [
    "# в некоторых объявлениях указано шоссе, расположенное неподалеку\n",
    "highway = [x.text for x in driver.find_elements(By.CLASS_NAME, 'a10a3f92e9--highway--TV8oi')]\n",
    "highway "
   ]
  },
  {
   "cell_type": "code",
   "execution_count": 83,
   "id": "19a497da",
   "metadata": {},
   "outputs": [
    {
     "data": {
      "text/plain": [
       "['Общая площадь\\n32,2 м²',\n",
       " 'Этаж\\n4 из 22',\n",
       " 'Год сдачи\\n2025',\n",
       " 'Дом\\nНе сдан',\n",
       " 'Отделка\\nБез отделки']"
      ]
     },
     "execution_count": 83,
     "metadata": {},
     "output_type": "execute_result"
    }
   ],
   "source": [
    "# вытаскиваем общую информацию о квартире\n",
    "s = [x.text for x in driver.find_elements(By.CLASS_NAME, 'a10a3f92e9--text--eplgM')]\n",
    "s"
   ]
  },
  {
   "cell_type": "code",
   "execution_count": 84,
   "id": "f28a115f",
   "metadata": {},
   "outputs": [
    {
     "data": {
      "text/plain": [
       "{'Общая площадь': '32,2 м²',\n",
       " 'Этаж': '4 из 22',\n",
       " 'Год сдачи': '2025',\n",
       " 'Дом': 'Не сдан',\n",
       " 'Отделка': 'Без отделки'}"
      ]
     },
     "execution_count": 84,
     "metadata": {},
     "output_type": "execute_result"
    }
   ],
   "source": [
    "inf = {}\n",
    "s=[x.split('\\n') for x in s]\n",
    "for i in s:\n",
    "    inf[i[0]] = i[1] \n",
    "inf"
   ]
  },
  {
   "cell_type": "code",
   "execution_count": 105,
   "id": "45a1f07c",
   "metadata": {},
   "outputs": [
    {
     "data": {
      "text/plain": [
       "['16 042 265 ₽']"
      ]
     },
     "execution_count": 105,
     "metadata": {},
     "output_type": "execute_result"
    }
   ],
   "source": [
    "# целевая переменная\n",
    "price = [x.text for x in driver.find_elements(By.CLASS_NAME, 'a10a3f92e9--amount--ON6i1')]\n",
    "price"
   ]
  },
  {
   "cell_type": "code",
   "execution_count": 132,
   "id": "0e3addab",
   "metadata": {},
   "outputs": [
    {
     "data": {
      "text/plain": [
       "'Компания Пионер'"
      ]
     },
     "execution_count": 132,
     "metadata": {},
     "output_type": "execute_result"
    }
   ],
   "source": [
    "# парсим информацию о доме и вытаскиваем оттуда застройщика\n",
    "builder = [x.text for x in driver.find_elements(By.CLASS_NAME, 'a10a3f92e9--item--E1gcC')]\n",
    "builder = builder[1].split('\\n')[1]\n",
    "builder"
   ]
  },
  {
   "cell_type": "code",
   "execution_count": 159,
   "id": "3f83959d",
   "metadata": {},
   "outputs": [
    {
     "data": {
      "text/plain": [
       "['1-комн. квартира, 32,2 м²\\nв ЖК «PRIDE (Прайд)»']"
      ]
     },
     "execution_count": 159,
     "metadata": {},
     "output_type": "execute_result"
    }
   ],
   "source": [
    "# вытаскиваем информацию из шапки объявления (сколько комнат, тип квартиры, площадь, ЖК)\n",
    "rooms = [x.text for x in driver.find_elements(By.CLASS_NAME, 'a10a3f92e9--container--pWxZo')]\n",
    "rooms"
   ]
  },
  {
   "cell_type": "code",
   "execution_count": 8,
   "id": "edfe4a5d",
   "metadata": {},
   "outputs": [
    {
     "name": "stderr",
     "output_type": "stream",
     "text": [
      "/var/folders/k9/wvgj_g6d2k9_5f_qthnr9_f00000gn/T/ipykernel_3292/1372811382.py:1: DeprecationWarning: executable_path has been deprecated, please pass in a Service object\n",
      "  driver = webdriver.Chrome('chromedriver_mac64/chromedriver')\n"
     ]
    }
   ],
   "source": [
    "driver = webdriver.Chrome('chromedriver_mac64/chromedriver')"
   ]
  },
  {
   "cell_type": "code",
   "execution_count": 9,
   "id": "ad4b8f49",
   "metadata": {},
   "outputs": [],
   "source": [
    "# сюда будем добавлять инфомацию по каждой квартире, сначала хотела уже в отредактированном виде, но не получилось\n",
    "# парсила информацию в виде строк, потом будем делить на признаки\n",
    "inf = []\n",
    "okrug = []\n",
    "metro = []\n",
    "road = []\n",
    "flat_inf = []\n",
    "developer = []\n",
    "y =[]\n"
   ]
  },
  {
   "cell_type": "code",
   "execution_count": 30,
   "id": "7973b920",
   "metadata": {},
   "outputs": [],
   "source": [
    "def parcer_cian(number):\n",
    "    driver = webdriver.Chrome('chromedriver_mac64/chromedriver')\n",
    "    url = f'https://www.cian.ru/cat.php?currency=2&deal_type=sale&engine_version=2&maxprice=35000000&object_type%5B0%5D=2&offer_type=flat&p={number}&region=1&room1=1&room2=1&room3=1&room4=1&room7=1&room9=1'\n",
    "    driver.get(url)\n",
    "    time.sleep(5) \n",
    "    flats = driver.find_elements(By.CLASS_NAME, '_93444fe79c--media--9P6wN')\n",
    "    for flat in flats:\n",
    "        flat.click()\n",
    "        time.sleep(5) \n",
    "        driver.switch_to.window(driver.window_handles[1])\n",
    "        rooms = [x.text for x in driver.find_elements(By.CLASS_NAME, 'a10a3f92e9--container--pWxZo')]\n",
    "        inf.append(rooms)\n",
    "        address = [x.text for x in driver.find_elements(By.CLASS_NAME, 'a10a3f92e9--address-line--GRDTb')]\n",
    "        okrug.append(address)\n",
    "        metro_res = [x.text for x in driver.find_elements(By.CLASS_NAME, 'a10a3f92e9--underground--pjGNr')]\n",
    "        metro.append(metro_res)\n",
    "        highway = [x.text for x in driver.find_elements(By.CLASS_NAME, 'a10a3f92e9--highway--TV8oi')]\n",
    "        road.append(highway) \n",
    "        s = [x.text for x in driver.find_elements(By.CLASS_NAME, 'a10a3f92e9--text--eplgM')]\n",
    "        flat_inf.append(s)\n",
    "        builder = [x.text for x in driver.find_elements(By.CLASS_NAME, 'a10a3f92e9--item--E1gcC')]\n",
    "        developer.append(builder)\n",
    "        price = [x.text for x in driver.find_elements(By.CLASS_NAME, 'a10a3f92e9--amount--ON6i1')]\n",
    "        y.append(price)\n",
    "        driver.close()\n",
    "        driver.switch_to.window(driver.window_handles[0])\n",
    "    driver.close()"
   ]
  },
  {
   "cell_type": "code",
   "execution_count": 10,
   "id": "d6267f13",
   "metadata": {},
   "outputs": [],
   "source": [
    "parcer_cian(1)"
   ]
  },
  {
   "cell_type": "code",
   "execution_count": 31,
   "id": "0c40042a",
   "metadata": {},
   "outputs": [
    {
     "name": "stderr",
     "output_type": "stream",
     "text": [
      "/var/folders/k9/wvgj_g6d2k9_5f_qthnr9_f00000gn/T/ipykernel_3292/2293598058.py:2: DeprecationWarning: executable_path has been deprecated, please pass in a Service object\n",
      "  driver = webdriver.Chrome('chromedriver_mac64/chromedriver')\n"
     ]
    },
    {
     "ename": "IndexError",
     "evalue": "list index out of range",
     "output_type": "error",
     "traceback": [
      "\u001b[0;31m---------------------------------------------------------------------------\u001b[0m",
      "\u001b[0;31mIndexError\u001b[0m                                Traceback (most recent call last)",
      "Cell \u001b[0;32mIn[31], line 2\u001b[0m\n\u001b[1;32m      1\u001b[0m \u001b[38;5;28;01mfor\u001b[39;00m i \u001b[38;5;129;01min\u001b[39;00m \u001b[38;5;28mrange\u001b[39m(\u001b[38;5;241m3\u001b[39m,\u001b[38;5;241m50\u001b[39m):\n\u001b[0;32m----> 2\u001b[0m     \u001b[43mparcer_cian\u001b[49m\u001b[43m(\u001b[49m\u001b[43mi\u001b[49m\u001b[43m)\u001b[49m\n",
      "Cell \u001b[0;32mIn[30], line 10\u001b[0m, in \u001b[0;36mparcer_cian\u001b[0;34m(number)\u001b[0m\n\u001b[1;32m      8\u001b[0m flat\u001b[38;5;241m.\u001b[39mclick()\n\u001b[1;32m      9\u001b[0m time\u001b[38;5;241m.\u001b[39msleep(\u001b[38;5;241m5\u001b[39m) \n\u001b[0;32m---> 10\u001b[0m driver\u001b[38;5;241m.\u001b[39mswitch_to\u001b[38;5;241m.\u001b[39mwindow(\u001b[43mdriver\u001b[49m\u001b[38;5;241;43m.\u001b[39;49m\u001b[43mwindow_handles\u001b[49m\u001b[43m[\u001b[49m\u001b[38;5;241;43m1\u001b[39;49m\u001b[43m]\u001b[49m)\n\u001b[1;32m     11\u001b[0m rooms \u001b[38;5;241m=\u001b[39m [x\u001b[38;5;241m.\u001b[39mtext \u001b[38;5;28;01mfor\u001b[39;00m x \u001b[38;5;129;01min\u001b[39;00m driver\u001b[38;5;241m.\u001b[39mfind_elements(By\u001b[38;5;241m.\u001b[39mCLASS_NAME, \u001b[38;5;124m'\u001b[39m\u001b[38;5;124ma10a3f92e9--container--pWxZo\u001b[39m\u001b[38;5;124m'\u001b[39m)]\n\u001b[1;32m     12\u001b[0m inf\u001b[38;5;241m.\u001b[39mappend(rooms)\n",
      "\u001b[0;31mIndexError\u001b[0m: list index out of range"
     ]
    }
   ],
   "source": [
    "for i in range(3,50):\n",
    "    parcer_cian(i)"
   ]
  },
  {
   "cell_type": "markdown",
   "id": "8ee4c74d",
   "metadata": {},
   "source": [
    "# Оформление данных в csv файл"
   ]
  },
  {
   "cell_type": "markdown",
   "id": "379f130b",
   "metadata": {},
   "source": [
    "### Целевая переменная"
   ]
  },
  {
   "cell_type": "markdown",
   "id": "91012ed8",
   "metadata": {},
   "source": [
    "Из в списке из списков цен вытащим цены без значка рубли и запишем в новый датафрейм"
   ]
  },
  {
   "cell_type": "code",
   "execution_count": 67,
   "id": "e3eb7f2c",
   "metadata": {},
   "outputs": [
    {
     "data": {
      "text/plain": [
       "['16 106 665',\n",
       " '16 122 800',\n",
       " '18 472 662',\n",
       " '22 450 632',\n",
       " '25 160 002',\n",
       " '25 606 470',\n",
       " '',\n",
       " '30 781 218',\n",
       " '31 000 000',\n",
       " '34 069 999']"
      ]
     },
     "execution_count": 67,
     "metadata": {},
     "output_type": "execute_result"
    }
   ],
   "source": [
    "\n",
    "new_y = []\n",
    "for i in y:\n",
    "    if i != []:\n",
    "        new_y.append(i[0][:-2])\n",
    "    else:\n",
    "        new_y.append('')\n",
    "new_y[:10]"
   ]
  },
  {
   "cell_type": "code",
   "execution_count": 68,
   "id": "61c79b28",
   "metadata": {},
   "outputs": [],
   "source": [
    "import pandas as pd\n",
    "target = pd.DataFrame({'Цена': new_y})"
   ]
  },
  {
   "cell_type": "code",
   "execution_count": 70,
   "id": "aef1857b",
   "metadata": {},
   "outputs": [
    {
     "data": {
      "text/html": [
       "<div>\n",
       "<style scoped>\n",
       "    .dataframe tbody tr th:only-of-type {\n",
       "        vertical-align: middle;\n",
       "    }\n",
       "\n",
       "    .dataframe tbody tr th {\n",
       "        vertical-align: top;\n",
       "    }\n",
       "\n",
       "    .dataframe thead th {\n",
       "        text-align: right;\n",
       "    }\n",
       "</style>\n",
       "<table border=\"1\" class=\"dataframe\">\n",
       "  <thead>\n",
       "    <tr style=\"text-align: right;\">\n",
       "      <th></th>\n",
       "      <th>Цена</th>\n",
       "    </tr>\n",
       "  </thead>\n",
       "  <tbody>\n",
       "    <tr>\n",
       "      <th>0</th>\n",
       "      <td>16 106 665</td>\n",
       "    </tr>\n",
       "    <tr>\n",
       "      <th>1</th>\n",
       "      <td>16 122 800</td>\n",
       "    </tr>\n",
       "    <tr>\n",
       "      <th>2</th>\n",
       "      <td>18 472 662</td>\n",
       "    </tr>\n",
       "    <tr>\n",
       "      <th>3</th>\n",
       "      <td>22 450 632</td>\n",
       "    </tr>\n",
       "    <tr>\n",
       "      <th>4</th>\n",
       "      <td>25 160 002</td>\n",
       "    </tr>\n",
       "  </tbody>\n",
       "</table>\n",
       "</div>"
      ],
      "text/plain": [
       "         Цена\n",
       "0  16 106 665\n",
       "1  16 122 800\n",
       "2  18 472 662\n",
       "3  22 450 632\n",
       "4  25 160 002"
      ]
     },
     "execution_count": 70,
     "metadata": {},
     "output_type": "execute_result"
    }
   ],
   "source": [
    "target.head()"
   ]
  },
  {
   "cell_type": "markdown",
   "id": "f431fe22",
   "metadata": {},
   "source": [
    "### Количество комнат, тип квартиры, название ЖК"
   ]
  },
  {
   "cell_type": "markdown",
   "id": "617f9b16",
   "metadata": {},
   "source": [
    "Вытащим количество комнат и название ЖК"
   ]
  },
  {
   "cell_type": "code",
   "execution_count": 71,
   "id": "ecb42d68",
   "metadata": {},
   "outputs": [
    {
     "data": {
      "text/plain": [
       "[['1-комн. квартира, 32,2 м²\\nв ЖК «PRIDE (Прайд)»'],\n",
       " ['1-комн. квартира, 48,06 м²\\nв ЖК «ÁLIA (АЛИЯ)»'],\n",
       " ['1-комн. квартира, 37,62 м²\\nв ЖК «SYMPHONY 34 (Симфони 34)»'],\n",
       " ['1-комн. квартира, 42,8 м²\\nв ЖК «River Park Towers Кутузовский (Ривер Парк Тауэрс Кутузовский)»'],\n",
       " ['1-комн. апартаменты, 47,9 м²\\nв ЖК «Комплекс апартаментов Slava (Слава)»'],\n",
       " ['1-комн. квартира, 44,9 м²\\nв ЖК «Остров»'],\n",
       " [],\n",
       " ['3-комн. квартира, 85,13 м²\\nв ЖК «SYMPHONY 34 (Симфони 34)»'],\n",
       " ['1-комн. апартаменты, 48,73 м²\\nв ЖК «Lunar (Лунар)»'],\n",
       " ['2-комн. апартаменты, 77,85 м²\\nв ЖК «Глоракс Премиум Белорусская (GloraX Premium Белорусская)»']]"
      ]
     },
     "execution_count": 71,
     "metadata": {},
     "output_type": "execute_result"
    }
   ],
   "source": [
    "inf[:10]"
   ]
  },
  {
   "cell_type": "code",
   "execution_count": 376,
   "id": "cf0d3828",
   "metadata": {},
   "outputs": [],
   "source": [
    "rooms = []\n",
    "name_jk = []\n",
    "for j in inf:\n",
    "    if j != []:\n",
    "        j = j[0].split('\\n')\n",
    "        if len(j)==2:\n",
    "            rooms.append(j[0])\n",
    "            name_jk.append(j[1][1:])\n",
    "        else:\n",
    "            rooms.append(j[0])\n",
    "            name_jk.append('')\n",
    "    else:\n",
    "        rooms.append('')\n",
    "        name_jk.append('')"
   ]
  },
  {
   "cell_type": "code",
   "execution_count": 377,
   "id": "c95bc9d6",
   "metadata": {},
   "outputs": [],
   "source": [
    "rooms = [x.split(', ')[0] for x in rooms]"
   ]
  },
  {
   "cell_type": "code",
   "execution_count": 379,
   "id": "361c4cd9",
   "metadata": {},
   "outputs": [],
   "source": [
    "name_jk_latest = []\n",
    "for jk in name_jk:\n",
    "    if jk != []:\n",
    "        name_jk_latest.append(' '.join(jk.split()[1:]))\n",
    "    else:\n",
    "        name_jk_latest.append('')"
   ]
  },
  {
   "cell_type": "code",
   "execution_count": 111,
   "id": "4bfd1087",
   "metadata": {},
   "outputs": [
    {
     "data": {
      "text/plain": [
       "['1-комн. квартира',\n",
       " '1-комн. квартира',\n",
       " '1-комн. квартира',\n",
       " '1-комн. квартира',\n",
       " '1-комн. апартаменты',\n",
       " '1-комн. квартира',\n",
       " '',\n",
       " '3-комн. квартира',\n",
       " '1-комн. апартаменты',\n",
       " '2-комн. апартаменты']"
      ]
     },
     "execution_count": 111,
     "metadata": {},
     "output_type": "execute_result"
    }
   ],
   "source": [
    "rooms[:10]"
   ]
  },
  {
   "cell_type": "code",
   "execution_count": 380,
   "id": "23c244e8",
   "metadata": {},
   "outputs": [
    {
     "data": {
      "text/plain": [
       "['«PRIDE (Прайд)»',\n",
       " '«ÁLIA (АЛИЯ)»',\n",
       " '«SYMPHONY 34 (Симфони 34)»',\n",
       " '«River Park Towers Кутузовский (Ривер Парк Тауэрс Кутузовский)»',\n",
       " '«Комплекс апартаментов Slava (Слава)»',\n",
       " '«Остров»',\n",
       " '',\n",
       " '«SYMPHONY 34 (Симфони 34)»',\n",
       " '«Lunar (Лунар)»',\n",
       " '«Глоракс Премиум Белорусская (GloraX Premium Белорусская)»']"
      ]
     },
     "execution_count": 380,
     "metadata": {},
     "output_type": "execute_result"
    }
   ],
   "source": [
    "name_jk_latest[:10]"
   ]
  },
  {
   "cell_type": "markdown",
   "id": "d84236e3",
   "metadata": {},
   "source": [
    "C названиями ЖК мы разобрались, теперь перейдем к количеству комнат в квартире и типу квартиры. На момент выполнения данного задания наша команда считает, что тип (квартира, апартаменты , студия) оказывает влияние на конечную цену (мы хотим взять это за гипотезу), поэтому список rooms на количество комнат в квартире и тип квартиры. "
   ]
  },
  {
   "cell_type": "markdown",
   "id": "d4859d4d",
   "metadata": {},
   "source": [
    "Проверим какие уникальные значения есть в списке rooms, чтобы понять как разделить "
   ]
  },
  {
   "cell_type": "code",
   "execution_count": 119,
   "id": "c6821a14",
   "metadata": {},
   "outputs": [
    {
     "data": {
      "text/plain": [
       "{'',\n",
       " '1-комн. апартаменты',\n",
       " '1-комн. квартира',\n",
       " '2-комн. апартаменты',\n",
       " '2-комн. квартира',\n",
       " '3-комн. апартаменты',\n",
       " '3-комн. квартира',\n",
       " '4-комн. апартаменты',\n",
       " '4-комн. квартира',\n",
       " 'Апартаменты-студия',\n",
       " 'Студия'}"
      ]
     },
     "execution_count": 119,
     "metadata": {},
     "output_type": "execute_result"
    }
   ],
   "source": [
    "set(rooms)"
   ]
  },
  {
   "cell_type": "code",
   "execution_count": 136,
   "id": "232dc134",
   "metadata": {},
   "outputs": [
    {
     "data": {
      "text/plain": [
       "[['1-комн.', 'квартира'],\n",
       " ['1-комн.', 'квартира'],\n",
       " ['1-комн.', 'квартира'],\n",
       " ['1-комн.', 'квартира'],\n",
       " ['1-комн.', 'апартаменты'],\n",
       " ['1-комн.', 'квартира'],\n",
       " [],\n",
       " ['3-комн.', 'квартира'],\n",
       " ['1-комн.', 'апартаменты'],\n",
       " ['2-комн.', 'апартаменты']]"
      ]
     },
     "execution_count": 136,
     "metadata": {},
     "output_type": "execute_result"
    }
   ],
   "source": [
    "rooms_type_flat = [x.split() for x in rooms]\n",
    "rooms_type_flat[:10]"
   ]
  },
  {
   "cell_type": "code",
   "execution_count": 138,
   "id": "eccc5321",
   "metadata": {},
   "outputs": [],
   "source": [
    "num_rooms = []\n",
    "type_flat = []\n",
    "\n",
    "for k in rooms_type_flat:\n",
    "    if k != []:\n",
    "        if sum(list(map(str.isdigit, k[0]))) !=0 : # есть ли в строке есть цифра\n",
    "            num_rooms.append(int(k[0][0]))\n",
    "            type_flat.append(k[1])\n",
    "        else:\n",
    "            num_rooms.append('')\n",
    "            type_flat.append(k[0])\n",
    "    else:\n",
    "        num_rooms.append('')\n",
    "        type_flat.append('')"
   ]
  },
  {
   "cell_type": "code",
   "execution_count": 139,
   "id": "23a15d2e",
   "metadata": {},
   "outputs": [
    {
     "data": {
      "text/plain": [
       "[1, 1, 1, 1, 1, 1, '', 3, 1, 2]"
      ]
     },
     "execution_count": 139,
     "metadata": {},
     "output_type": "execute_result"
    }
   ],
   "source": [
    "num_rooms[:10]"
   ]
  },
  {
   "cell_type": "code",
   "execution_count": 141,
   "id": "693cfeb8",
   "metadata": {},
   "outputs": [
    {
     "data": {
      "text/plain": [
       "['квартира',\n",
       " 'квартира',\n",
       " 'квартира',\n",
       " 'квартира',\n",
       " 'апартаменты',\n",
       " 'квартира',\n",
       " '',\n",
       " 'квартира',\n",
       " 'апартаменты',\n",
       " 'апартаменты']"
      ]
     },
     "execution_count": 141,
     "metadata": {},
     "output_type": "execute_result"
    }
   ],
   "source": [
    "type_flat[:10]"
   ]
  },
  {
   "cell_type": "markdown",
   "id": "0145cd0f",
   "metadata": {},
   "source": [
    "### Застройщик, класс, тип дома, парковка, отделка"
   ]
  },
  {
   "cell_type": "code",
   "execution_count": 145,
   "id": "f2df9b5e",
   "metadata": {},
   "outputs": [
    {
     "data": {
      "text/plain": [
       "['Сдача комплекса\\nСдача в 4 кв. 2025',\n",
       " 'Застройщик\\nКомпания Пионер',\n",
       " 'Класс\\nПремиум',\n",
       " 'Кол-во корпусов\\n1 корпус',\n",
       " 'Тип дома\\nМонолитный',\n",
       " 'Парковка\\nПодземная',\n",
       " 'Отделка\\nБез отделки, чистовая']"
      ]
     },
     "execution_count": 145,
     "metadata": {},
     "output_type": "execute_result"
    }
   ],
   "source": [
    "max(developer, key = len)"
   ]
  },
  {
   "cell_type": "markdown",
   "id": "f30facb0",
   "metadata": {},
   "source": [
    "Напишем функцию, которая будет преобразовывать неудобные списки вида \"характеристика\\nзначение\" в список из словарей вида характеристика : значение"
   ]
  },
  {
   "cell_type": "code",
   "execution_count": 279,
   "id": "2b6a004d",
   "metadata": {},
   "outputs": [],
   "source": [
    "def list_to_dict(list_to_change):\n",
    "    new_list = []\n",
    "    for i in list_to_change:\n",
    "        d = {}\n",
    "        i_split = [y.split('\\n') for y in i]\n",
    "        for j in i_split:\n",
    "            d[j[0]] = j[1]\n",
    "        new_list.append(d)\n",
    "    return new_list"
   ]
  },
  {
   "cell_type": "code",
   "execution_count": 282,
   "id": "d1d26865",
   "metadata": {},
   "outputs": [],
   "source": [
    "total_inf_houses = list_to_dict(developer)\n"
   ]
  },
  {
   "cell_type": "code",
   "execution_count": 283,
   "id": "0ab285b9",
   "metadata": {},
   "outputs": [],
   "source": [
    "release_year = [] \n",
    "build_company = []\n",
    "class_liv = []\n",
    "house_type = []\n",
    "parking = []\n",
    "decor = []"
   ]
  },
  {
   "cell_type": "code",
   "execution_count": 284,
   "id": "229c7bf1",
   "metadata": {},
   "outputs": [],
   "source": [
    "for house in total_inf_houses:\n",
    "    if 'Сдача комплекса' in house.keys():\n",
    "        release_year.append(house['Сдача комплекса'])\n",
    "    else:\n",
    "        release_year.append('')\n",
    "    if 'Застройщик' in house.keys():\n",
    "        build_company.append(house['Застройщик'])\n",
    "    else:\n",
    "        build_company.append('')\n",
    "    if 'Класс' in house.keys():\n",
    "        class_liv.append(house['Класс'])\n",
    "    else:\n",
    "        class_liv.append('')\n",
    "    if 'Тип дома' in house.keys():\n",
    "        house_type.append(house['Тип дома'])\n",
    "    else:\n",
    "        house_type.append('')\n",
    "    if 'Парковка' in house.keys():\n",
    "        parking.append(house['Парковка'])\n",
    "    else:\n",
    "        parking.append('')\n",
    "    if 'Отделка' in house.keys():\n",
    "        decor.append(house['Отделка'])\n",
    "    else:\n",
    "        decor.append('')"
   ]
  },
  {
   "cell_type": "code",
   "execution_count": 285,
   "id": "7109585d",
   "metadata": {},
   "outputs": [
    {
     "data": {
      "text/plain": [
       "{'',\n",
       " '3SGroup',\n",
       " '494 УНР',\n",
       " 'AFI Development',\n",
       " 'Absolute Premium',\n",
       " 'Forma',\n",
       " 'GRAVION',\n",
       " 'Glincom',\n",
       " 'GloraX',\n",
       " 'Hutton Development',\n",
       " 'Level Group',\n",
       " 'MR Group',\n",
       " 'October Group',\n",
       " 'Optima Development',\n",
       " 'Prime Life Development',\n",
       " 'Regions Development',\n",
       " 'Seven Suns Development',\n",
       " 'Sezar Group',\n",
       " 'Sminex-Интеко',\n",
       " 'St Michael',\n",
       " 'TEKTA GROUP',\n",
       " 'Upside Development',\n",
       " 'VOS’HOD',\n",
       " 'Wainbridge',\n",
       " 'Ziggurat',\n",
       " 'А101',\n",
       " 'Абсолют Недвижимость',\n",
       " 'Аеон Девелопмент',\n",
       " 'Велесстрой',\n",
       " 'ГК МИЦ',\n",
       " 'ГК Новая Жизнь',\n",
       " 'ГК Основа',\n",
       " 'ГК ФСК',\n",
       " 'Группа ЛСР',\n",
       " 'Группа Родина',\n",
       " 'Группа Самолет',\n",
       " 'Группа Эталон',\n",
       " 'ДОНСТРОЙ',\n",
       " 'ДСК-1',\n",
       " 'КОРТРОС',\n",
       " 'Колди (Coldy)',\n",
       " 'Компания Пионер',\n",
       " 'Концерн КРОСТ',\n",
       " 'Мангазея',\n",
       " 'Новые Ватутинки',\n",
       " 'ООО \"СЗ \"Стадион \"Спартак\"',\n",
       " 'ПИК',\n",
       " 'РГ-Девелопмент',\n",
       " 'СЗ Звездный',\n",
       " 'СЗ Логос',\n",
       " 'СЗ ПРОГРЕСС',\n",
       " 'СЗ Универсаль',\n",
       " 'СИТИ21',\n",
       " 'СК Резиденс',\n",
       " 'Ташир',\n",
       " 'Э.К. Девелопмент'}"
      ]
     },
     "execution_count": 285,
     "metadata": {},
     "output_type": "execute_result"
    }
   ],
   "source": [
    "set(build_company)"
   ]
  },
  {
   "cell_type": "code",
   "execution_count": 286,
   "id": "a5b647d5",
   "metadata": {},
   "outputs": [
    {
     "data": {
      "text/plain": [
       "{'', 'Бизнес', 'Комфорт', 'Премиум'}"
      ]
     },
     "execution_count": 286,
     "metadata": {},
     "output_type": "execute_result"
    }
   ],
   "source": [
    "set(class_liv )"
   ]
  },
  {
   "cell_type": "code",
   "execution_count": 287,
   "id": "4e47284b",
   "metadata": {},
   "outputs": [
    {
     "data": {
      "text/plain": [
       "{'',\n",
       " 'Монолитно-кирпичный',\n",
       " 'Монолитно-кирпичный, монолитный',\n",
       " 'Монолитно-кирпичный, монолитный, кирпичный',\n",
       " 'Монолитный',\n",
       " 'Панельный',\n",
       " 'Панельный, кирпичный',\n",
       " 'Панельный, монолитный'}"
      ]
     },
     "execution_count": 287,
     "metadata": {},
     "output_type": "execute_result"
    }
   ],
   "source": [
    "set(house_type )"
   ]
  },
  {
   "cell_type": "code",
   "execution_count": 288,
   "id": "ed0f154a",
   "metadata": {},
   "outputs": [
    {
     "data": {
      "text/plain": [
       "{'',\n",
       " '-',\n",
       " 'Гостевая',\n",
       " 'Отдельная многоуровневая',\n",
       " 'Отдельная многоуровневая, гостевая',\n",
       " 'Подземная',\n",
       " 'Подземная, гостевая',\n",
       " 'Подземная, отдельная многоуровневая',\n",
       " 'Подземная, отдельная многоуровневая, гостевая'}"
      ]
     },
     "execution_count": 288,
     "metadata": {},
     "output_type": "execute_result"
    }
   ],
   "source": [
    "set(parking )"
   ]
  },
  {
   "cell_type": "code",
   "execution_count": 289,
   "id": "2e62a8bb",
   "metadata": {},
   "outputs": [
    {
     "data": {
      "text/plain": [
       "{'',\n",
       " 'Без отделки',\n",
       " 'Без отделки, предчистовая',\n",
       " 'Без отделки, предчистовая, черновая',\n",
       " 'Без отделки, предчистовая, черновая, чистовая',\n",
       " 'Без отделки, предчистовая, чистовая',\n",
       " 'Без отделки, черновая',\n",
       " 'Без отделки, черновая, чистовая',\n",
       " 'Без отделки, чистовая',\n",
       " 'Без отделки, чистовая, чистовая с мебелью',\n",
       " 'Предчистовая',\n",
       " 'Предчистовая, черновая',\n",
       " 'Предчистовая, черновая, чистовая',\n",
       " 'Предчистовая, чистовая',\n",
       " 'Черновая',\n",
       " 'Чистовая',\n",
       " 'Чистовая, чистовая с мебелью'}"
      ]
     },
     "execution_count": 289,
     "metadata": {},
     "output_type": "execute_result"
    }
   ],
   "source": [
    "set(decor )"
   ]
  },
  {
   "cell_type": "markdown",
   "id": "4d7267e3",
   "metadata": {},
   "source": [
    "В принципе все признаки выглядят +- адекватно, кроме года сдачи, нужно почистить строку и оставить только год"
   ]
  },
  {
   "cell_type": "code",
   "execution_count": 178,
   "id": "307dd846",
   "metadata": {},
   "outputs": [
    {
     "data": {
      "text/plain": [
       "{'',\n",
       " 'Сдан',\n",
       " 'Сдача в 1 кв. 2024',\n",
       " 'Сдача в 1 кв. 2024, есть сданные',\n",
       " 'Сдача в 1 кв. 2025',\n",
       " 'Сдача в 1 кв. 2025, есть сданные',\n",
       " 'Сдача в 1 кв. 2026',\n",
       " 'Сдача в 1—2 кв. 2024, есть сданные',\n",
       " 'Сдача в 1—3 кв. 2024, есть сданные',\n",
       " 'Сдача в 2 кв. 2023',\n",
       " 'Сдача в 2 кв. 2023, есть сданные',\n",
       " 'Сдача в 2 кв. 2024',\n",
       " 'Сдача в 2 кв. 2024, есть сданные',\n",
       " 'Сдача в 2 кв. 2025',\n",
       " 'Сдача в 2 кв. 2025, есть сданные',\n",
       " 'Сдача в 2 кв. 2026',\n",
       " 'Сдача в 2023, есть сданные',\n",
       " 'Сдача в 2023—2024',\n",
       " 'Сдача в 2023—2024, есть сданные',\n",
       " 'Сдача в 2023—2025',\n",
       " 'Сдача в 2023—2025, есть сданные',\n",
       " 'Сдача в 2023—2026, есть сданные',\n",
       " 'Сдача в 2023—2027, есть сданные',\n",
       " 'Сдача в 2024—2025',\n",
       " 'Сдача в 2024—2025, есть сданные',\n",
       " 'Сдача в 2024—2026',\n",
       " 'Сдача в 2024—2026, есть сданные',\n",
       " 'Сдача в 2025',\n",
       " 'Сдача в 2025—2026',\n",
       " 'Сдача в 2026—2027',\n",
       " 'Сдача в 2—3 кв. 2023, есть сданные',\n",
       " 'Сдача в 3 кв. 2023',\n",
       " 'Сдача в 3 кв. 2023, есть сданные',\n",
       " 'Сдача в 3 кв. 2024',\n",
       " 'Сдача в 3 кв. 2024, есть сданные',\n",
       " 'Сдача в 3 кв. 2025',\n",
       " 'Сдача в 3 кв. 2026',\n",
       " 'Сдача в 3 кв. 2026, есть сданные',\n",
       " 'Сдача в 4 кв. 2023',\n",
       " 'Сдача в 4 кв. 2023, есть сданные',\n",
       " 'Сдача в 4 кв. 2024',\n",
       " 'Сдача в 4 кв. 2025',\n",
       " 'Сдача в 4 кв. 2026'}"
      ]
     },
     "execution_count": 178,
     "metadata": {},
     "output_type": "execute_result"
    }
   ],
   "source": [
    "set(release_year)"
   ]
  },
  {
   "cell_type": "code",
   "execution_count": 187,
   "id": "d05af853",
   "metadata": {},
   "outputs": [
    {
     "data": {
      "text/plain": [
       "['Сдача в 4 кв. 2025',\n",
       " 'Сдача в 2023—2025',\n",
       " 'Сдача в 2 кв. 2025',\n",
       " 'Сдача в 2026—2027',\n",
       " 'Сдан',\n",
       " '',\n",
       " '',\n",
       " 'Сдача в 2 кв. 2025',\n",
       " 'Сдача в 4 кв. 2023',\n",
       " 'Сдача в 3 кв. 2024']"
      ]
     },
     "execution_count": 187,
     "metadata": {},
     "output_type": "execute_result"
    }
   ],
   "source": [
    "release_year_last = [x.split(',')[0] for x in release_year]\n",
    "release_year_last[:10]"
   ]
  },
  {
   "cell_type": "code",
   "execution_count": 186,
   "id": "2cdaba09",
   "metadata": {},
   "outputs": [
    {
     "data": {
      "text/plain": [
       "{'',\n",
       " 'Сдан',\n",
       " 'Сдача в 1 кв. 2024',\n",
       " 'Сдача в 1 кв. 2025',\n",
       " 'Сдача в 1 кв. 2026',\n",
       " 'Сдача в 1—2 кв. 2024',\n",
       " 'Сдача в 1—3 кв. 2024',\n",
       " 'Сдача в 2 кв. 2023',\n",
       " 'Сдача в 2 кв. 2024',\n",
       " 'Сдача в 2 кв. 2025',\n",
       " 'Сдача в 2 кв. 2026',\n",
       " 'Сдача в 2023',\n",
       " 'Сдача в 2023—2024',\n",
       " 'Сдача в 2023—2025',\n",
       " 'Сдача в 2023—2026',\n",
       " 'Сдача в 2023—2027',\n",
       " 'Сдача в 2024—2025',\n",
       " 'Сдача в 2024—2026',\n",
       " 'Сдача в 2025',\n",
       " 'Сдача в 2025—2026',\n",
       " 'Сдача в 2026—2027',\n",
       " 'Сдача в 2—3 кв. 2023',\n",
       " 'Сдача в 3 кв. 2023',\n",
       " 'Сдача в 3 кв. 2024',\n",
       " 'Сдача в 3 кв. 2025',\n",
       " 'Сдача в 3 кв. 2026',\n",
       " 'Сдача в 4 кв. 2023',\n",
       " 'Сдача в 4 кв. 2024',\n",
       " 'Сдача в 4 кв. 2025',\n",
       " 'Сдача в 4 кв. 2026'}"
      ]
     },
     "execution_count": 186,
     "metadata": {},
     "output_type": "execute_result"
    }
   ],
   "source": [
    "set(release_year_last)"
   ]
  },
  {
   "cell_type": "markdown",
   "id": "8aef5cb5",
   "metadata": {},
   "source": [
    "По списку уникальных значений видно, что у нас есть варианты, где прописан квартал и единственный год, диапазон лет и уже сдан"
   ]
  },
  {
   "cell_type": "code",
   "execution_count": 197,
   "id": "ea6c389a",
   "metadata": {},
   "outputs": [],
   "source": [
    "year_of_release = []\n",
    "for year in release_year_last:\n",
    "    if year != '':\n",
    "        year_of_release.append(year.split()[-1])\n",
    "    else:\n",
    "        year_of_release.append('')"
   ]
  },
  {
   "cell_type": "code",
   "execution_count": 199,
   "id": "94fcda22",
   "metadata": {},
   "outputs": [
    {
     "data": {
      "text/plain": [
       "{'',\n",
       " '2023',\n",
       " '2023—2024',\n",
       " '2023—2025',\n",
       " '2023—2026',\n",
       " '2023—2027',\n",
       " '2024',\n",
       " '2024—2025',\n",
       " '2024—2026',\n",
       " '2025',\n",
       " '2025—2026',\n",
       " '2026',\n",
       " '2026—2027',\n",
       " 'Сдан'}"
      ]
     },
     "execution_count": 199,
     "metadata": {},
     "output_type": "execute_result"
    }
   ],
   "source": [
    " set(year_of_release)"
   ]
  },
  {
   "cell_type": "markdown",
   "id": "0564a97b",
   "metadata": {},
   "source": [
    "### Информация о квартире (площадь, количество комнат, отделка и тд)"
   ]
  },
  {
   "cell_type": "markdown",
   "id": "159e87b4",
   "metadata": {},
   "source": [
    "Находим самый длинный список, чтобы понять сколько всего характеристик возможно. Далее придадим каждому списку более читабельную форму, то есть в виде словаря Характеристика: значения. "
   ]
  },
  {
   "cell_type": "code",
   "execution_count": 202,
   "id": "217e245b",
   "metadata": {},
   "outputs": [
    {
     "data": {
      "text/plain": [
       "['Общая площадь\\n37,62 м²',\n",
       " 'Жилая площадь\\n12,8 м²',\n",
       " 'Площадь кухни\\n3,1 м²',\n",
       " 'Этаж\\n2 из 36',\n",
       " 'Год сдачи\\n2025',\n",
       " 'Дом\\nНе сдан',\n",
       " 'Отделка\\nЧистовая']"
      ]
     },
     "execution_count": 202,
     "metadata": {},
     "output_type": "execute_result"
    }
   ],
   "source": [
    "max(flat_inf, key = len)"
   ]
  },
  {
   "cell_type": "code",
   "execution_count": 203,
   "id": "47494c30",
   "metadata": {},
   "outputs": [],
   "source": [
    "total_inf_flats = []\n",
    "\n",
    "for i in flat_inf:\n",
    "    flat = {}\n",
    "    flat_split = [y.split('\\n') for y in i]\n",
    "    for j in flat_split:\n",
    "        flat[j[0]] = j[1]\n",
    "    total_inf_flats.append(flat)"
   ]
  },
  {
   "cell_type": "code",
   "execution_count": 207,
   "id": "6b11eb05",
   "metadata": {},
   "outputs": [
    {
     "data": {
      "text/plain": [
       "{'Общая площадь': '37,62 м²',\n",
       " 'Жилая площадь': '12,8 м²',\n",
       " 'Площадь кухни': '3,1 м²',\n",
       " 'Этаж': '2 из 36',\n",
       " 'Год сдачи': '2025',\n",
       " 'Дом': 'Не сдан',\n",
       " 'Отделка': 'Чистовая'}"
      ]
     },
     "execution_count": 207,
     "metadata": {},
     "output_type": "execute_result"
    }
   ],
   "source": [
    "total_inf_flats[2]"
   ]
  },
  {
   "cell_type": "markdown",
   "id": "6a183e9b",
   "metadata": {},
   "source": [
    "Теперь для каждой характеристики сделаем словарь и будем добавлять туда значение каждой квартиры по ключу, а если такого ключа нет, то пустое значение"
   ]
  },
  {
   "cell_type": "code",
   "execution_count": 210,
   "id": "a563bf1f",
   "metadata": {},
   "outputs": [],
   "source": [
    "square_all = []\n",
    "square_liv = []\n",
    "square_kitch = []\n",
    "floors_flat_all = []\n",
    "god_sdachi = []\n",
    "decor_flat = []"
   ]
  },
  {
   "cell_type": "code",
   "execution_count": 211,
   "id": "47736a20",
   "metadata": {},
   "outputs": [],
   "source": [
    "for flat in total_inf_flats:\n",
    "    if 'Общая площадь' in flat.keys():\n",
    "        square_all.append(flat['Общая площадь'])\n",
    "    else:\n",
    "        square_all.append('')\n",
    "    if 'Жилая площадь' in flat.keys():\n",
    "        square_liv .append(flat['Жилая площадь'])\n",
    "    else:\n",
    "        square_liv .append('')\n",
    "    if 'Площадь кухни' in flat.keys():\n",
    "        square_kitch.append(flat['Площадь кухни'])\n",
    "    else:\n",
    "        square_kitch.append('')\n",
    "    if 'Этаж' in flat.keys():\n",
    "        floors_flat_all.append(flat['Этаж'])\n",
    "    else:\n",
    "        floors_flat_all.append('')\n",
    "    if 'Год сдачи' in flat.keys():\n",
    "        god_sdachi.append(flat['Год сдачи'])\n",
    "    else:\n",
    "        god_sdachi.append('')\n",
    "    if 'Отделка' in flat.keys():\n",
    "        decor_flat.append(flat['Отделка'])\n",
    "    else:\n",
    "        decor_flat.append('')"
   ]
  },
  {
   "cell_type": "markdown",
   "id": "00b72bbb",
   "metadata": {},
   "source": [
    "Стоит сделать замечание, что появилась новая переменная, которая информирует об отделке конкретной квартиры, а не всех квартир в доме, поэтому очевидно включить в признаки только ее, также есть год сдачи каждой квартиры, что намного информативней, чем год сдачи дома, где помимо интрвалов, есть еще и категориальный признак \"Сдан\"."
   ]
  },
  {
   "cell_type": "markdown",
   "id": "cb02f408",
   "metadata": {},
   "source": [
    "__Следующим этапом__ разберемся с площадями и приведем их в численный вид, затем разделим переменную этажи на две : этаж, на котором находится непосредственно квартира и суммарное количество этажей в доме"
   ]
  },
  {
   "cell_type": "code",
   "execution_count": 258,
   "id": "0b573b01",
   "metadata": {},
   "outputs": [],
   "source": [
    "def fixing_square(list_to_fix):\n",
    "    new_list = []\n",
    "    for i in list_to_fix:\n",
    "        if i != '':\n",
    "            s = i.split()[0]\n",
    "            if ',' in s:\n",
    "                s = '.'.join(s.split(','))\n",
    "            new_list.append(float(s))\n",
    "        else:\n",
    "            new_list.append('')\n",
    "    return new_list"
   ]
  },
  {
   "cell_type": "code",
   "execution_count": 261,
   "id": "724b3616",
   "metadata": {},
   "outputs": [],
   "source": [
    "square_all_last = fixing_square(square_all)\n",
    "square_liv_last = fixing_square(square_liv)\n",
    "square_kitch_last = fixing_square(square_kitch)\n",
    "\n"
   ]
  },
  {
   "cell_type": "code",
   "execution_count": 263,
   "id": "2e15476e",
   "metadata": {},
   "outputs": [
    {
     "data": {
      "text/plain": [
       "[32.2, 48.06, 37.62, 42.8, 47.9, 44.9, '', 85.13, 48.73, 77.85]"
      ]
     },
     "execution_count": 263,
     "metadata": {},
     "output_type": "execute_result"
    }
   ],
   "source": [
    "square_all_last[:10]"
   ]
  },
  {
   "cell_type": "code",
   "execution_count": 264,
   "id": "65399756",
   "metadata": {},
   "outputs": [
    {
     "data": {
      "text/plain": [
       "['', '', 12.8, '', '', 13.5, '', 33.9, 12.5, 30.5]"
      ]
     },
     "execution_count": 264,
     "metadata": {},
     "output_type": "execute_result"
    }
   ],
   "source": [
    "square_liv_last[:10]"
   ]
  },
  {
   "cell_type": "code",
   "execution_count": 265,
   "id": "6f3e0da8",
   "metadata": {},
   "outputs": [
    {
     "data": {
      "text/plain": [
       "['', '', 3.1, '', '', 18.4, '', 6.2, 22.8, 27.1]"
      ]
     },
     "execution_count": 265,
     "metadata": {},
     "output_type": "execute_result"
    }
   ],
   "source": [
    "square_kitch_last[:10]"
   ]
  },
  {
   "cell_type": "code",
   "execution_count": 269,
   "id": "be77e760",
   "metadata": {},
   "outputs": [],
   "source": [
    "flat_floor = []\n",
    "total_num_floor = []\n",
    "\n",
    "for i in floors_flat_all:\n",
    "    if i != '':\n",
    "        i = i.split(' из ')\n",
    "        flat_floor.append(int(i[0]))\n",
    "        total_num_floor.append(int(i[1]))\n",
    "    else:\n",
    "        flat_floor.append('')\n",
    "        total_num_floor.append('')"
   ]
  },
  {
   "cell_type": "code",
   "execution_count": 270,
   "id": "8570ba30",
   "metadata": {},
   "outputs": [
    {
     "data": {
      "text/plain": [
       "[5, 2, 2, 2, 2, 6, '', 8, 5, 5]"
      ]
     },
     "execution_count": 270,
     "metadata": {},
     "output_type": "execute_result"
    }
   ],
   "source": [
    "flat_floor[:10]"
   ]
  },
  {
   "cell_type": "code",
   "execution_count": 271,
   "id": "d219d0c9",
   "metadata": {},
   "outputs": [
    {
     "data": {
      "text/plain": [
       "[22, 26, 36, 45, 16, 19, '', 43, 8, 21]"
      ]
     },
     "execution_count": 271,
     "metadata": {},
     "output_type": "execute_result"
    }
   ],
   "source": [
    "total_num_floor[:10]"
   ]
  },
  {
   "cell_type": "markdown",
   "id": "2500b3f3",
   "metadata": {},
   "source": [
    "###  Метро\n",
    "\n",
    "Нам дан список из ближайших метро и время до них. Давайте выведем количество метро рядом, ближайшее метро и наименьшее время до метро."
   ]
  },
  {
   "cell_type": "code",
   "execution_count": 303,
   "id": "f32191a9",
   "metadata": {},
   "outputs": [
    {
     "data": {
      "text/plain": [
       "[['Савёловская\\n13 мин.', 'Марьина роща\\n17 мин.', 'Савёловская\\n18 мин.'],\n",
       " ['Спартак\\n7 мин.', 'Тушинская\\n13 мин.', 'Трикотажная\\n4 мин.'],\n",
       " ['Дмитровская\\n8 мин.', 'Гражданская\\n16 мин.', 'Тимирязевская\\n3 мин.'],\n",
       " ['Фили\\n5 мин.', 'Парк Победы\\n12 мин.', 'Кутузовская\\n17 мин.'],\n",
       " ['Белорусская\\n4 мин.', 'Маяковская\\n16 мин.', 'Менделеевская\\n20 мин.'],\n",
       " ['Терехово\\n1 мин.', 'Мнёвники\\n4 мин.', 'Карамышевская\\n5 мин.'],\n",
       " [],\n",
       " ['Дмитровская\\n7 мин.', 'Гражданская\\n17 мин.', 'Тимирязевская\\n3 мин.'],\n",
       " ['Ленинский проспект\\n13 мин.',\n",
       "  'Площадь Гагарина\\n15 мин.',\n",
       "  'Воробьёвы горы\\n19 мин.'],\n",
       " ['Белорусская\\n7 мин.', 'Менделеевская\\n18 мин.', 'Савёловская\\n18 мин.']]"
      ]
     },
     "execution_count": 303,
     "metadata": {},
     "output_type": "execute_result"
    }
   ],
   "source": [
    "metro[:10]"
   ]
  },
  {
   "cell_type": "code",
   "execution_count": 304,
   "id": "2a501f95",
   "metadata": {},
   "outputs": [
    {
     "data": {
      "text/plain": [
       "{'Савёловская': '18 мин.', 'Марьина роща': '17 мин.'}"
      ]
     },
     "execution_count": 304,
     "metadata": {},
     "output_type": "execute_result"
    }
   ],
   "source": [
    "new_metro = list_to_dict(metro)\n",
    "new_metro[0]"
   ]
  },
  {
   "cell_type": "code",
   "execution_count": 296,
   "id": "65e96636",
   "metadata": {},
   "outputs": [
    {
     "data": {
      "text/plain": [
       "[2, 3, 3, 3, 3, 3, 0, 3, 3, 3]"
      ]
     },
     "execution_count": 296,
     "metadata": {},
     "output_type": "execute_result"
    }
   ],
   "source": [
    "number_stations = [len(x) for x in new_metro]\n",
    "number_stations[:10]"
   ]
  },
  {
   "cell_type": "code",
   "execution_count": 314,
   "id": "fb152fec",
   "metadata": {},
   "outputs": [],
   "source": [
    "for i in new_metro:\n",
    "    for key, value in i.items():\n",
    "        if value.isdigit() == True:\n",
    "            i[key] = int(value.split()[0])\n",
    "        else:\n",
    "            i[key] = value.split()[0]"
   ]
  },
  {
   "cell_type": "code",
   "execution_count": 316,
   "id": "4b7805c6",
   "metadata": {},
   "outputs": [
    {
     "data": {
      "text/plain": [
       "[{'Савёловская': 18, 'Марьина роща': 17},\n",
       " {'Спартак': 7, 'Тушинская': 13, 'Трикотажная': 4},\n",
       " {'Дмитровская': 8, 'Гражданская': 16, 'Тимирязевская': 3},\n",
       " {'Фили': 5, 'Парк Победы': 12, 'Кутузовская': 17},\n",
       " {'Белорусская': 4, 'Маяковская': 16, 'Менделеевская': 20},\n",
       " {'Терехово': 1, 'Мнёвники': 4, 'Карамышевская': 5},\n",
       " {},\n",
       " {'Дмитровская': 7, 'Гражданская': 17, 'Тимирязевская': 3},\n",
       " {'Ленинский проспект': 13, 'Площадь Гагарина': 15, 'Воробьёвы горы': 19},\n",
       " {'Белорусская': 7, 'Менделеевская': 18, 'Савёловская': 18}]"
      ]
     },
     "execution_count": 316,
     "metadata": {},
     "output_type": "execute_result"
    }
   ],
   "source": [
    "new_metro[:10]"
   ]
  },
  {
   "cell_type": "code",
   "execution_count": 325,
   "id": "264d1b70",
   "metadata": {},
   "outputs": [
    {
     "name": "stdout",
     "output_type": "stream",
     "text": [
      "Яхромская откроется\n",
      "Яхромская откроется\n",
      "Яхромская откроется\n",
      "Яхромская откроется\n",
      "Яхромская откроется\n",
      "Яхромская откроется\n",
      "Яхромская откроется\n",
      "Яхромская откроется\n",
      "Яхромская откроется\n"
     ]
    }
   ],
   "source": [
    "for i in new_metro:\n",
    "    for key, value in i.items():\n",
    "        if str(value).isdigit() == False:\n",
    "            print(key, value)\n",
    "# есть элементы словаря, где времени не указано, тк метро не открылось еще"
   ]
  },
  {
   "cell_type": "code",
   "execution_count": 356,
   "id": "aff887dc",
   "metadata": {},
   "outputs": [],
   "source": [
    "min_time = []\n",
    "closest_station = []\n",
    "\n",
    "for i in new_metro:\n",
    "    if i != {}:\n",
    "        if 'Яхромская' not in i.keys():\n",
    "            minimum_time = min(i.values())\n",
    "            for key, value in i.items():\n",
    "                if value == min(i.values()):\n",
    "                    closest_station.append(key)\n",
    "                    min_time.append(value)\n",
    "                    break\n",
    "        else:\n",
    "            i.pop('Яхромская')\n",
    "            min_value = min(i.values())\n",
    "            for key, value in i.items():\n",
    "                if value == min_value:\n",
    "                    min_time.append(value)\n",
    "                    closest_station.append(value)\n",
    "    else:\n",
    "        min_time.append('')\n",
    "        closest_station.append('')\n",
    "            \n",
    "            "
   ]
  },
  {
   "cell_type": "code",
   "execution_count": 357,
   "id": "fa1dae15",
   "metadata": {},
   "outputs": [
    {
     "data": {
      "text/plain": [
       "[17, 4, 3, 5, 4, 1, '', 3, 13, 7]"
      ]
     },
     "execution_count": 357,
     "metadata": {},
     "output_type": "execute_result"
    }
   ],
   "source": [
    "min_time[:10]"
   ]
  },
  {
   "cell_type": "code",
   "execution_count": 354,
   "id": "40ec3994",
   "metadata": {},
   "outputs": [
    {
     "data": {
      "text/plain": [
       "['Марьина роща',\n",
       " 'Трикотажная',\n",
       " 'Тимирязевская',\n",
       " 'Фили',\n",
       " 'Белорусская',\n",
       " 'Терехово',\n",
       " '',\n",
       " 'Тимирязевская',\n",
       " 'Ленинский проспект',\n",
       " 'Белорусская']"
      ]
     },
     "execution_count": 354,
     "metadata": {},
     "output_type": "execute_result"
    }
   ],
   "source": [
    "closest_station[:10]"
   ]
  },
  {
   "cell_type": "markdown",
   "id": "36df436a",
   "metadata": {},
   "source": [
    "### Округ"
   ]
  },
  {
   "cell_type": "code",
   "execution_count": 335,
   "id": "0223e320",
   "metadata": {},
   "outputs": [
    {
     "data": {
      "text/plain": [
       "[['Москва, СВАО, р-н Марьина роща, Полковая ул., 1С5На карте'],\n",
       " ['Москва, СЗАО, р-н Покровское-Стрешнево, Алиа жилой комплекс, к6На карте'],\n",
       " ['Москва, САО, р-н Савеловский, Симфония 34 жилой комплексНа карте'],\n",
       " ['Москва, ЗАО, р-н Дорогомилово, Кутузовский проезд, 16А/1На карте'],\n",
       " ['Москва, САО, р-н Беговой, Северный административный округ, Слава жилой комплекс, к2На карте'],\n",
       " ['Москва, СЗАО, р-н Хорошево-Мневники, проезд Проектируемый № 1077На карте'],\n",
       " [],\n",
       " ['Москва, САО, р-н Савеловский, 2-я Хуторская ул., 34На карте'],\n",
       " ['Москва, ЮЗАО, р-н Гагаринский, Лунар жилой комплексНа карте'],\n",
       " ['Москва, САО, р-н Беговой, ул. 1-я Ямского Поля, 28С3На карте']]"
      ]
     },
     "execution_count": 335,
     "metadata": {},
     "output_type": "execute_result"
    }
   ],
   "source": [
    "okrug[:10]"
   ]
  },
  {
   "cell_type": "code",
   "execution_count": 343,
   "id": "5e90337b",
   "metadata": {},
   "outputs": [],
   "source": [
    "okrug_res = []\n",
    "for i in okrug:\n",
    "    if i != []:\n",
    "        i = i[0].split(',')\n",
    "        okrug_res.append(i[1])\n",
    "    else:\n",
    "        okrug_res.append('')"
   ]
  },
  {
   "cell_type": "code",
   "execution_count": 345,
   "id": "a6e0ab40",
   "metadata": {},
   "outputs": [
    {
     "data": {
      "text/plain": [
       "[' СВАО',\n",
       " ' СЗАО',\n",
       " ' САО',\n",
       " ' ЗАО',\n",
       " ' САО',\n",
       " ' СЗАО',\n",
       " '',\n",
       " ' САО',\n",
       " ' ЮЗАО',\n",
       " ' САО']"
      ]
     },
     "execution_count": 345,
     "metadata": {},
     "output_type": "execute_result"
    }
   ],
   "source": [
    "okrug_res[:10]"
   ]
  },
  {
   "cell_type": "markdown",
   "id": "c22f76c9",
   "metadata": {},
   "source": [
    "## Ура !!! Теперь запишем все признаки в табличку"
   ]
  },
  {
   "cell_type": "code",
   "execution_count": 381,
   "id": "c702512f",
   "metadata": {},
   "outputs": [
    {
     "name": "stdout",
     "output_type": "stream",
     "text": [
      "1356 1356 1356 1356 1356 1356 1356 1356 1356 1356 1356 1356 1356 1356 1356 1356 1356 1356\n"
     ]
    }
   ],
   "source": [
    "\n",
    "print(len(num_rooms),\n",
    "len(type_flat),\n",
    "len(class_liv),\n",
    "len(house_type),\n",
    "len(parking),\n",
    "len(square_all_last),\n",
    "len(square_liv_last ),\n",
    "len(square_kitch_last),\n",
    "len(floors_flat_all ),\n",
    "len(god_sdachi ),\n",
    "len(decor_flat),\n",
    "len(flat_floor),\n",
    "len(total_num_floor),\n",
    "len(min_time),\n",
    "len(closest_station),\n",
    "len(okrug_res),\n",
    "     len(number_stations),len(name_jk_latest))"
   ]
  },
  {
   "cell_type": "code",
   "execution_count": 382,
   "id": "c4e12b3b",
   "metadata": {},
   "outputs": [],
   "source": [
    "features = {'Округ':okrug_res,'Ближайшая станция метро':closest_station, 'Время до метро':min_time, 'Метро рядом':number_stations,\n",
    "            'Застройщик':build_company, 'ЖК': name_jk_latest,'Класс':class_liv,'Тип квартиры':type_flat,\n",
    "            'Этаж': flat_floor, 'Этажей в доме': total_num_floor, 'Отделка':decor_flat,'Количество комнат':num_rooms,\n",
    "            'Площадь квартиры':square_all_last,'Жилая площадь': square_liv_last , 'Площадь кухни':square_kitch_last,\n",
    "            'Тип дома':house_type, 'Парковка':parking, 'Год сдачи': god_sdachi}"
   ]
  },
  {
   "cell_type": "code",
   "execution_count": 383,
   "id": "6a42e77e",
   "metadata": {},
   "outputs": [],
   "source": [
    "import pandas as pd\n",
    "data = pd.DataFrame(features)"
   ]
  },
  {
   "cell_type": "code",
   "execution_count": 385,
   "id": "eacb0a2a",
   "metadata": {},
   "outputs": [],
   "source": [
    "data['Цена'] = target"
   ]
  },
  {
   "cell_type": "code",
   "execution_count": 386,
   "id": "3d77aedb",
   "metadata": {},
   "outputs": [
    {
     "data": {
      "text/html": [
       "<div>\n",
       "<style scoped>\n",
       "    .dataframe tbody tr th:only-of-type {\n",
       "        vertical-align: middle;\n",
       "    }\n",
       "\n",
       "    .dataframe tbody tr th {\n",
       "        vertical-align: top;\n",
       "    }\n",
       "\n",
       "    .dataframe thead th {\n",
       "        text-align: right;\n",
       "    }\n",
       "</style>\n",
       "<table border=\"1\" class=\"dataframe\">\n",
       "  <thead>\n",
       "    <tr style=\"text-align: right;\">\n",
       "      <th></th>\n",
       "      <th>Округ</th>\n",
       "      <th>Ближайшая станция метро</th>\n",
       "      <th>Время до метро</th>\n",
       "      <th>Метро рядом</th>\n",
       "      <th>Застройщик</th>\n",
       "      <th>ЖК</th>\n",
       "      <th>Класс</th>\n",
       "      <th>Тип квартиры</th>\n",
       "      <th>Этаж</th>\n",
       "      <th>Этажей в доме</th>\n",
       "      <th>Отделка</th>\n",
       "      <th>Количество комнат</th>\n",
       "      <th>Площадь квартиры</th>\n",
       "      <th>Жилая площадь</th>\n",
       "      <th>Площадь кухни</th>\n",
       "      <th>Тип дома</th>\n",
       "      <th>Парковка</th>\n",
       "      <th>Год сдачи</th>\n",
       "      <th>Цена</th>\n",
       "    </tr>\n",
       "  </thead>\n",
       "  <tbody>\n",
       "    <tr>\n",
       "      <th>0</th>\n",
       "      <td>СВАО</td>\n",
       "      <td>Марьина роща</td>\n",
       "      <td>17</td>\n",
       "      <td>2</td>\n",
       "      <td>Компания Пионер</td>\n",
       "      <td>«PRIDE (Прайд)»</td>\n",
       "      <td>Премиум</td>\n",
       "      <td>квартира</td>\n",
       "      <td>5</td>\n",
       "      <td>22</td>\n",
       "      <td>Без отделки</td>\n",
       "      <td>1</td>\n",
       "      <td>32.2</td>\n",
       "      <td></td>\n",
       "      <td></td>\n",
       "      <td>Монолитный</td>\n",
       "      <td>Подземная</td>\n",
       "      <td>2025</td>\n",
       "      <td>16 106 665</td>\n",
       "    </tr>\n",
       "    <tr>\n",
       "      <th>1</th>\n",
       "      <td>СЗАО</td>\n",
       "      <td>Трикотажная</td>\n",
       "      <td>4</td>\n",
       "      <td>3</td>\n",
       "      <td>СК Резиденс</td>\n",
       "      <td>«ÁLIA (АЛИЯ)»</td>\n",
       "      <td>Бизнес</td>\n",
       "      <td>квартира</td>\n",
       "      <td>2</td>\n",
       "      <td>26</td>\n",
       "      <td>Неизвестно</td>\n",
       "      <td>1</td>\n",
       "      <td>48.06</td>\n",
       "      <td></td>\n",
       "      <td></td>\n",
       "      <td>Монолитно-кирпичный</td>\n",
       "      <td>Подземная, гостевая</td>\n",
       "      <td>2023</td>\n",
       "      <td>16 122 800</td>\n",
       "    </tr>\n",
       "    <tr>\n",
       "      <th>2</th>\n",
       "      <td>САО</td>\n",
       "      <td>Тимирязевская</td>\n",
       "      <td>3</td>\n",
       "      <td>3</td>\n",
       "      <td>MR Group</td>\n",
       "      <td>«SYMPHONY 34 (Симфони 34)»</td>\n",
       "      <td>Премиум</td>\n",
       "      <td>квартира</td>\n",
       "      <td>2</td>\n",
       "      <td>36</td>\n",
       "      <td>Чистовая</td>\n",
       "      <td>1</td>\n",
       "      <td>37.62</td>\n",
       "      <td>12.8</td>\n",
       "      <td>3.1</td>\n",
       "      <td>Монолитный</td>\n",
       "      <td>Подземная, гостевая</td>\n",
       "      <td>2025</td>\n",
       "      <td>18 472 662</td>\n",
       "    </tr>\n",
       "    <tr>\n",
       "      <th>3</th>\n",
       "      <td>ЗАО</td>\n",
       "      <td>Фили</td>\n",
       "      <td>5</td>\n",
       "      <td>3</td>\n",
       "      <td>Аеон Девелопмент</td>\n",
       "      <td>«River Park Towers Кутузовский (Ривер Парк Тау...</td>\n",
       "      <td>Премиум</td>\n",
       "      <td>квартира</td>\n",
       "      <td>2</td>\n",
       "      <td>45</td>\n",
       "      <td>Без отделки</td>\n",
       "      <td>1</td>\n",
       "      <td>42.8</td>\n",
       "      <td></td>\n",
       "      <td></td>\n",
       "      <td>Монолитно-кирпичный</td>\n",
       "      <td>Подземная</td>\n",
       "      <td>2026</td>\n",
       "      <td>22 450 632</td>\n",
       "    </tr>\n",
       "    <tr>\n",
       "      <th>4</th>\n",
       "      <td>САО</td>\n",
       "      <td>Белорусская</td>\n",
       "      <td>4</td>\n",
       "      <td>3</td>\n",
       "      <td>MR Group</td>\n",
       "      <td>«Комплекс апартаментов Slava (Слава)»</td>\n",
       "      <td>Премиум</td>\n",
       "      <td>апартаменты</td>\n",
       "      <td>2</td>\n",
       "      <td>16</td>\n",
       "      <td>Предчистовая</td>\n",
       "      <td>1</td>\n",
       "      <td>47.9</td>\n",
       "      <td></td>\n",
       "      <td></td>\n",
       "      <td>Монолитно-кирпичный</td>\n",
       "      <td>Подземная, гостевая</td>\n",
       "      <td>2023</td>\n",
       "      <td>25 160 002</td>\n",
       "    </tr>\n",
       "    <tr>\n",
       "      <th>...</th>\n",
       "      <td>...</td>\n",
       "      <td>...</td>\n",
       "      <td>...</td>\n",
       "      <td>...</td>\n",
       "      <td>...</td>\n",
       "      <td>...</td>\n",
       "      <td>...</td>\n",
       "      <td>...</td>\n",
       "      <td>...</td>\n",
       "      <td>...</td>\n",
       "      <td>...</td>\n",
       "      <td>...</td>\n",
       "      <td>...</td>\n",
       "      <td>...</td>\n",
       "      <td>...</td>\n",
       "      <td>...</td>\n",
       "      <td>...</td>\n",
       "      <td>...</td>\n",
       "      <td>...</td>\n",
       "    </tr>\n",
       "    <tr>\n",
       "      <th>1351</th>\n",
       "      <td></td>\n",
       "      <td></td>\n",
       "      <td></td>\n",
       "      <td>0</td>\n",
       "      <td></td>\n",
       "      <td></td>\n",
       "      <td></td>\n",
       "      <td></td>\n",
       "      <td></td>\n",
       "      <td></td>\n",
       "      <td></td>\n",
       "      <td></td>\n",
       "      <td></td>\n",
       "      <td></td>\n",
       "      <td></td>\n",
       "      <td></td>\n",
       "      <td></td>\n",
       "      <td></td>\n",
       "      <td></td>\n",
       "    </tr>\n",
       "    <tr>\n",
       "      <th>1352</th>\n",
       "      <td>НАО (Новомосковский)</td>\n",
       "      <td>Ольховая</td>\n",
       "      <td>14</td>\n",
       "      <td>3</td>\n",
       "      <td>Новые Ватутинки</td>\n",
       "      <td>«Новые Ватутинки. Микрорайон Центральный»</td>\n",
       "      <td>Комфорт</td>\n",
       "      <td>квартира</td>\n",
       "      <td>8</td>\n",
       "      <td>8</td>\n",
       "      <td>Чистовая</td>\n",
       "      <td>2</td>\n",
       "      <td>51.1</td>\n",
       "      <td>29.4</td>\n",
       "      <td></td>\n",
       "      <td>Панельный, монолитный</td>\n",
       "      <td>Отдельная многоуровневая, гостевая</td>\n",
       "      <td>2024</td>\n",
       "      <td>11 308 226</td>\n",
       "    </tr>\n",
       "    <tr>\n",
       "      <th>1353</th>\n",
       "      <td>ЮВАО</td>\n",
       "      <td>Дубровка</td>\n",
       "      <td>3</td>\n",
       "      <td>3</td>\n",
       "      <td>Level Group</td>\n",
       "      <td>«Level Южнопортовая»</td>\n",
       "      <td>Комфорт</td>\n",
       "      <td>квартира</td>\n",
       "      <td>2</td>\n",
       "      <td>69</td>\n",
       "      <td>Без отделки</td>\n",
       "      <td>2</td>\n",
       "      <td>35.4</td>\n",
       "      <td>10.6</td>\n",
       "      <td>16.5</td>\n",
       "      <td>Монолитный</td>\n",
       "      <td>Подземная</td>\n",
       "      <td>2025</td>\n",
       "      <td>11 327 234</td>\n",
       "    </tr>\n",
       "    <tr>\n",
       "      <th>1354</th>\n",
       "      <td>ЮВАО</td>\n",
       "      <td>Угрешская</td>\n",
       "      <td>2</td>\n",
       "      <td>3</td>\n",
       "      <td>Level Group</td>\n",
       "      <td>«Level Южнопортовая»</td>\n",
       "      <td>Комфорт</td>\n",
       "      <td>квартира</td>\n",
       "      <td>2</td>\n",
       "      <td>18</td>\n",
       "      <td>Без отделки</td>\n",
       "      <td>1</td>\n",
       "      <td>38.1</td>\n",
       "      <td>17.3</td>\n",
       "      <td>11.4</td>\n",
       "      <td>Монолитный</td>\n",
       "      <td>Подземная</td>\n",
       "      <td>2025</td>\n",
       "      <td>11 443 758</td>\n",
       "    </tr>\n",
       "    <tr>\n",
       "      <th>1355</th>\n",
       "      <td>НАО (Новомосковский)</td>\n",
       "      <td>Ольховая</td>\n",
       "      <td>14</td>\n",
       "      <td>3</td>\n",
       "      <td>Новые Ватутинки</td>\n",
       "      <td>«Новые Ватутинки. Микрорайон Центральный»</td>\n",
       "      <td>Комфорт</td>\n",
       "      <td>квартира</td>\n",
       "      <td>14</td>\n",
       "      <td>14</td>\n",
       "      <td>Чистовая</td>\n",
       "      <td>2</td>\n",
       "      <td>54.9</td>\n",
       "      <td>30.6</td>\n",
       "      <td></td>\n",
       "      <td>Панельный, монолитный</td>\n",
       "      <td>Отдельная многоуровневая, гостевая</td>\n",
       "      <td>2024</td>\n",
       "      <td>11 336 630</td>\n",
       "    </tr>\n",
       "  </tbody>\n",
       "</table>\n",
       "<p>1356 rows × 19 columns</p>\n",
       "</div>"
      ],
      "text/plain": [
       "                      Округ Ближайшая станция метро Время до метро  \\\n",
       "0                      СВАО            Марьина роща             17   \n",
       "1                      СЗАО             Трикотажная              4   \n",
       "2                       САО           Тимирязевская              3   \n",
       "3                       ЗАО                    Фили              5   \n",
       "4                       САО             Белорусская              4   \n",
       "...                     ...                     ...            ...   \n",
       "1351                                                                 \n",
       "1352   НАО (Новомосковский)                Ольховая             14   \n",
       "1353                   ЮВАО                Дубровка              3   \n",
       "1354                   ЮВАО               Угрешская              2   \n",
       "1355   НАО (Новомосковский)                Ольховая             14   \n",
       "\n",
       "      Метро рядом        Застройщик  \\\n",
       "0               2   Компания Пионер   \n",
       "1               3       СК Резиденс   \n",
       "2               3          MR Group   \n",
       "3               3  Аеон Девелопмент   \n",
       "4               3          MR Group   \n",
       "...           ...               ...   \n",
       "1351            0                     \n",
       "1352            3   Новые Ватутинки   \n",
       "1353            3       Level Group   \n",
       "1354            3       Level Group   \n",
       "1355            3   Новые Ватутинки   \n",
       "\n",
       "                                                     ЖК    Класс Тип квартиры  \\\n",
       "0                                       «PRIDE (Прайд)»  Премиум     квартира   \n",
       "1                                         «ÁLIA (АЛИЯ)»   Бизнес     квартира   \n",
       "2                            «SYMPHONY 34 (Симфони 34)»  Премиум     квартира   \n",
       "3     «River Park Towers Кутузовский (Ривер Парк Тау...  Премиум     квартира   \n",
       "4                 «Комплекс апартаментов Slava (Слава)»  Премиум  апартаменты   \n",
       "...                                                 ...      ...          ...   \n",
       "1351                                                                            \n",
       "1352          «Новые Ватутинки. Микрорайон Центральный»  Комфорт     квартира   \n",
       "1353                               «Level Южнопортовая»  Комфорт     квартира   \n",
       "1354                               «Level Южнопортовая»  Комфорт     квартира   \n",
       "1355          «Новые Ватутинки. Микрорайон Центральный»  Комфорт     квартира   \n",
       "\n",
       "     Этаж Этажей в доме       Отделка Количество комнат Площадь квартиры  \\\n",
       "0       5            22   Без отделки                 1             32.2   \n",
       "1       2            26    Неизвестно                 1            48.06   \n",
       "2       2            36      Чистовая                 1            37.62   \n",
       "3       2            45   Без отделки                 1             42.8   \n",
       "4       2            16  Предчистовая                 1             47.9   \n",
       "...   ...           ...           ...               ...              ...   \n",
       "1351                                                                       \n",
       "1352    8             8      Чистовая                 2             51.1   \n",
       "1353    2            69   Без отделки                 2             35.4   \n",
       "1354    2            18   Без отделки                 1             38.1   \n",
       "1355   14            14      Чистовая                 2             54.9   \n",
       "\n",
       "     Жилая площадь Площадь кухни               Тип дома  \\\n",
       "0                                            Монолитный   \n",
       "1                                   Монолитно-кирпичный   \n",
       "2             12.8           3.1             Монолитный   \n",
       "3                                   Монолитно-кирпичный   \n",
       "4                                   Монолитно-кирпичный   \n",
       "...            ...           ...                    ...   \n",
       "1351                                                      \n",
       "1352          29.4                Панельный, монолитный   \n",
       "1353          10.6          16.5             Монолитный   \n",
       "1354          17.3          11.4             Монолитный   \n",
       "1355          30.6                Панельный, монолитный   \n",
       "\n",
       "                                Парковка Год сдачи        Цена  \n",
       "0                              Подземная      2025  16 106 665  \n",
       "1                    Подземная, гостевая      2023  16 122 800  \n",
       "2                    Подземная, гостевая      2025  18 472 662  \n",
       "3                              Подземная      2026  22 450 632  \n",
       "4                    Подземная, гостевая      2023  25 160 002  \n",
       "...                                  ...       ...         ...  \n",
       "1351                                                            \n",
       "1352  Отдельная многоуровневая, гостевая      2024  11 308 226  \n",
       "1353                           Подземная      2025  11 327 234  \n",
       "1354                           Подземная      2025  11 443 758  \n",
       "1355  Отдельная многоуровневая, гостевая      2024  11 336 630  \n",
       "\n",
       "[1356 rows x 19 columns]"
      ]
     },
     "execution_count": 386,
     "metadata": {},
     "output_type": "execute_result"
    }
   ],
   "source": [
    "data"
   ]
  },
  {
   "cell_type": "code",
   "execution_count": 387,
   "id": "a160ffae",
   "metadata": {},
   "outputs": [],
   "source": [
    "data.to_csv(r'cian_data.csv', index = False)"
   ]
  },
  {
   "cell_type": "code",
   "execution_count": 388,
   "id": "6289e68f",
   "metadata": {},
   "outputs": [],
   "source": [
    "data.to_excel(r'cian_data.xlsx', index = False )"
   ]
  }
 ],
 "metadata": {
  "kernelspec": {
   "display_name": "Python 3 (ipykernel)",
   "language": "python",
   "name": "python3"
  },
  "language_info": {
   "codemirror_mode": {
    "name": "ipython",
    "version": 3
   },
   "file_extension": ".py",
   "mimetype": "text/x-python",
   "name": "python",
   "nbconvert_exporter": "python",
   "pygments_lexer": "ipython3",
   "version": "3.9.7"
  }
 },
 "nbformat": 4,
 "nbformat_minor": 5
}
