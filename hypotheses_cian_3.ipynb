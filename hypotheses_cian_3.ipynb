{
 "cells": [
  {
   "cell_type": "code",
   "execution_count": 551,
   "id": "ae7aed92",
   "metadata": {},
   "outputs": [],
   "source": [
    "import numpy as np\n",
    "import pandas as pd\n",
    "import matplotlib.pyplot as plt\n",
    "import seaborn as sns\n",
    "from scipy import stats as sts\n",
    "import warnings\n",
    "warnings.filterwarnings('ignore')\n",
    "plt.style.use(\"seaborn\")"
   ]
  },
  {
   "cell_type": "markdown",
   "id": "92a6cab1",
   "metadata": {},
   "source": [
    "# Проверка гипотез"
   ]
  },
  {
   "cell_type": "markdown",
   "id": "074c7ea0",
   "metadata": {},
   "source": [
    "### **Нами были выдвинуты следующие гипотезы:**\n",
    "1) Квартиры на первом и последнем этажах в среднем дешевле, чем остальные  \n",
    "2) Цена за квадратный метр квартиры распределена нормально    \n",
    "3) Квартиры в высотках дороже    \n",
    "4) В высотках квартиры премиум и бизнес класса     \n",
    "5) В ЦАО квартиры премиум и бизнес класса     \n",
    "6) Разброс цен на квартиры не зависит от округа   \n"
   ]
  },
  {
   "cell_type": "markdown",
   "id": "02deb4e5",
   "metadata": {},
   "source": [
    "## Гипотеза 1 : скидка за 1-ый / последний этаж"
   ]
  },
  {
   "cell_type": "markdown",
   "id": "d4ef5554",
   "metadata": {},
   "source": [
    "Для того чтобы проверить гипотезу о том, что $\\mu$ цены квартир на 1-ом/последнем этаже меньше, чем $\\mu$ цен остальных квартир, воспользуемсй z-статистикой, так как мы не знаем распределения наших данных и дисперсии. "
   ]
  },
  {
   "cell_type": "code",
   "execution_count": 552,
   "id": "50a2f05b",
   "metadata": {},
   "outputs": [],
   "source": [
    "#открываем файл с данными без пропусков и с добавленной колонкой с ценой за 1 кв.м\n",
    "data_without_miss = pd.read_csv('data_without_miss.csv') "
   ]
  },
  {
   "cell_type": "markdown",
   "id": "c5cac964",
   "metadata": {},
   "source": [
    "В качестве целевой переменной будем использовать цену за 1 кв.м. для того, чтобы исключить влияние таких существенных признаков, как площадь квартиры, жилая площадь и др. Так как брать **среднее по цене** всех квартир вместе было бы некорректно"
   ]
  },
  {
   "cell_type": "markdown",
   "id": "2fa52fb5",
   "metadata": {},
   "source": [
    "Возьмем уровень значимости $\\alpha$ = 0.05    \n",
    "Сформулируем гипотезы:\n",
    "$$\n",
    "\\begin{aligned}\n",
    "&H_0: \\hspace{2mm} \\mu_{1/last} = \\mu_{other} \\hspace{2mm} \\text{(скидки за 1-ый/последний этаж нет)} \\\\\n",
    "&H_1: \\hspace{2mm} \\mu_{1/last} < \\mu_{other}  \\hspace{2mm} \\text{(скидка за 1-ый/последний этаж есть)}\n",
    "\\end{aligned}\n",
    "$$"
   ]
  },
  {
   "cell_type": "markdown",
   "id": "15d187fd",
   "metadata": {},
   "source": [
    "                                                    Формула для z-статистики:"
   ]
  },
  {
   "cell_type": "markdown",
   "id": "38056153",
   "metadata": {},
   "source": [
    "$$ z = \\frac{\\bar{X} - \\bar{Y} - \\mu_0}         {\\sqrt{\\frac {\\hat{\\sigma}_x^2} {n} + \\frac {\\hat{\\sigma}_y^2} {m}}}$$"
   ]
  },
  {
   "cell_type": "code",
   "execution_count": 553,
   "id": "7d7b1d73",
   "metadata": {},
   "outputs": [],
   "source": [
    "first_last = data_without_miss[(data_without_miss['Этаж'] == 1) | (data_without_miss['Этаж'] == data_without_miss['Этажей в доме'])]['Цена за 1 кв.м']\n",
    "other = data_without_miss[(data_without_miss['Этаж'] != 1) & (data_without_miss['Этаж'] != data_without_miss['Этажей в доме'])]['Цена за 1 кв.м']"
   ]
  },
  {
   "cell_type": "markdown",
   "id": "96fc7637",
   "metadata": {},
   "source": [
    "Найдем $\\bar{X}$ по выборке с квартирами на $1/last$ этажах"
   ]
  },
  {
   "cell_type": "code",
   "execution_count": 554,
   "id": "5449d563",
   "metadata": {},
   "outputs": [],
   "source": [
    "mean_first_last = first_last.mean()"
   ]
  },
  {
   "cell_type": "markdown",
   "id": "e92f5447",
   "metadata": {},
   "source": [
    "Найдем $\\bar{Y}$ по выборке с квартирами на $other$ этажах"
   ]
  },
  {
   "cell_type": "code",
   "execution_count": 555,
   "id": "87ba79e4",
   "metadata": {},
   "outputs": [],
   "source": [
    "mean_other = other.mean()"
   ]
  },
  {
   "cell_type": "markdown",
   "id": "820875cd",
   "metadata": {},
   "source": [
    "Найдем $\\hat{\\sigma}_x^2$ (несмещенную оценку дисперсии) по выборке с квартирами на $1/last$ этажах"
   ]
  },
  {
   "cell_type": "code",
   "execution_count": 556,
   "id": "56be1257",
   "metadata": {},
   "outputs": [],
   "source": [
    "var_first_last = first_last.var(ddof=1)"
   ]
  },
  {
   "cell_type": "markdown",
   "id": "121457c6",
   "metadata": {},
   "source": [
    "Найдем $\\hat{\\sigma}_y^2$ по выборке с квартирами на $other$ этажах"
   ]
  },
  {
   "cell_type": "code",
   "execution_count": 557,
   "id": "3e5392a7",
   "metadata": {},
   "outputs": [],
   "source": [
    "var_other = other.var(ddof=1)"
   ]
  },
  {
   "cell_type": "markdown",
   "id": "19d1f656",
   "metadata": {},
   "source": [
    "Найдем $n$ и $m$"
   ]
  },
  {
   "cell_type": "code",
   "execution_count": 558,
   "id": "acbfe3b8",
   "metadata": {},
   "outputs": [],
   "source": [
    "n = first_last.size\n",
    "m = other.size"
   ]
  },
  {
   "cell_type": "markdown",
   "id": "f190e474",
   "metadata": {},
   "source": [
    "Подставим все найденные значения в формулу и рассчитаем z-статистику "
   ]
  },
  {
   "cell_type": "code",
   "execution_count": 559,
   "id": "7d02c45d",
   "metadata": {},
   "outputs": [
    {
     "name": "stdout",
     "output_type": "stream",
     "text": [
      "z_stat:  -4.109739012553561\n",
      "z_crit:  -1.6448536269514722\n"
     ]
    }
   ],
   "source": [
    "z_stat = (mean_first_last - mean_other)/np.sqrt(var_first_last/n + var_other/m)\n",
    "z_crit = - sts.norm.ppf(1-0.05) #alpha = 5%\n",
    "print('z_stat: ', z_stat)\n",
    "print('z_crit: ',z_crit)"
   ]
  },
  {
   "cell_type": "code",
   "execution_count": 560,
   "id": "30ee300d",
   "metadata": {},
   "outputs": [
    {
     "name": "stdout",
     "output_type": "stream",
     "text": [
      "Гипотеза о равенстве мат.ожиданий отвергается\n"
     ]
    }
   ],
   "source": [
    "if z_stat > z_crit: #т.к. левосторонняя альтернатива\n",
    "    print('Гипотеза о равенстве мат.ожиданий НЕ отвергается')\n",
    "else: \n",
    "    print('Гипотеза о равенстве мат.ожиданий отвергается')"
   ]
  },
  {
   "cell_type": "markdown",
   "id": "3a84f2d5",
   "metadata": {},
   "source": [
    "**Вывод:** мы отвергаем нулевую гипотезу о равенстве мат.ожиданий цен квартир, расположенных на $1/last$ этажах и квартир на $other$ этажах, в пользу альтернативной, которая гласит о том, что **скидка за $1/last$ этаж есть.**"
   ]
  },
  {
   "cell_type": "markdown",
   "id": "0e25c896",
   "metadata": {},
   "source": [
    "## Гипотеза 2 : цена за 1 кв.м - нормальная случайная величина"
   ]
  },
  {
   "cell_type": "code",
   "execution_count": 561,
   "id": "3965a1cd",
   "metadata": {},
   "outputs": [
    {
     "data": {
      "image/png": "[encoded data removed]",
      "text/plain": [
       "<Figure size 576x396 with 1 Axes>"
      ]
     },
     "metadata": {},
     "output_type": "display_data"
    }
   ],
   "source": [
    "plt.hist(data_without_miss['Цена за 1 кв.м'], color='#7d5e9b')\n",
    "plt.title('Гистограмма цены за 1 кв.м')\n",
    "plt.xlabel('Цена за 1 кв.м в млн.')\n",
    "plt.ylabel('Кол-во квартир');"
   ]
  },
  {
   "cell_type": "markdown",
   "id": "bf73c3e7",
   "metadata": {},
   "source": [
    "Визуально гистограмма не похожа на распределение нормальной случайной величины, распределение цены за 1 кв.м в Москве скошено вправо, так как имеет удлиненный правый хвост. Также можно наблюдать выбросы на правом конце гистограммы, можем предположить, что это сверх-дорогие квартиры, в которых цена за 1 кв.м достигает 1 млн.руб."
   ]
  },
  {
   "cell_type": "markdown",
   "id": "7eeaf85f",
   "metadata": {},
   "source": [
    "Проверим гипотезу о нормальности с помощью теста Колмогорова-Смирнова"
   ]
  },
  {
   "cell_type": "code",
   "execution_count": 562,
   "id": "c3790978",
   "metadata": {},
   "outputs": [
    {
     "name": "stdout",
     "output_type": "stream",
     "text": [
      "Отклонить гипотезу о нормальности распределения цены за 1 кв.метр\n"
     ]
    }
   ],
   "source": [
    "from scipy.stats import kstest\n",
    "pv_square_metr = kstest(data_without_miss['Цена за 1 кв.м'], 'norm', args=(data_without_miss['Цена за 1 кв.м'].mean(), data_without_miss['Цена за 1 кв.м'].std(ddof=1))).pvalue\n",
    "if pv_square_metr > alpha:\n",
    "    print('Принять гипотезу о нормальности распределения цены за 1 кв.метр')\n",
    "else:\n",
    "    print('Отклонить гипотезу о нормальности распределения цены за 1 кв.метр')"
   ]
  },
  {
   "cell_type": "markdown",
   "id": "2dd333d0",
   "metadata": {},
   "source": [
    "**Вывод:** нельзя говорить о том, что распределение цены за 1 кв.м в московской новостройке нормально. "
   ]
  },
  {
   "cell_type": "markdown",
   "id": "94edd2cc",
   "metadata": {},
   "source": [
    "## Гипотеза 3 : Квартиры в высотках дороже   "
   ]
  },
  {
   "cell_type": "markdown",
   "id": "7f6b178f",
   "metadata": {},
   "source": [
    "Предположим, что в высотках цена за 1 квадратный метр больше (элитные, престижные ЖК, расчитанные на покупателей с высоким заработком и т.д и т.п.), чем в многоэтажных домах. "
   ]
  },
  {
   "cell_type": "markdown",
   "id": "1d5c8e7b",
   "metadata": {},
   "source": [
    "Возьмем уровень значимости $\\alpha$ = 0.05    \n",
    "Сформулируем гипотезы:\n",
    "$$\n",
    "\\begin{aligned}\n",
    "&H_0: \\hspace{2mm} \\mu_{high} = \\mu_{low} \\hspace{2mm} \\text{(квартиры в высотных и многоэтажных домах стоят одинаково)} \\\\\n",
    "&H_1: \\hspace{2mm} \\mu_{high} > \\mu_{low}  \\hspace{2mm} \\text{(квартиры в высотных домах дороже)}\n",
    "\\end{aligned}\n",
    "$$"
   ]
  },
  {
   "cell_type": "markdown",
   "id": "951cf6db",
   "metadata": {},
   "source": [
    "Пусть высотный дом, это дом в котором >= 25 этажей (именно с такого количества этажей в России принято считать здание высоткой)  \n",
    "Для проверки гипотезы вновь используем z-статистику:\n",
    "$$ z = \\frac{\\bar{X} - \\bar{Y} - \\mu_0}         {\\sqrt{\\frac {\\hat{\\sigma}_x^2} {n} + \\frac {\\hat{\\sigma}_y^2} {m}}}$$"
   ]
  },
  {
   "cell_type": "code",
   "execution_count": 563,
   "id": "eaab9b00",
   "metadata": {},
   "outputs": [],
   "source": [
    "high = data_without_miss[(data_without_miss['Этажей в доме'] >= 25)]['Цена за 1 кв.м']\n",
    "low = data_without_miss[(data_without_miss['Этажей в доме'] < 25)]['Цена за 1 кв.м']"
   ]
  },
  {
   "cell_type": "code",
   "execution_count": 564,
   "id": "3c3be0de",
   "metadata": {},
   "outputs": [],
   "source": [
    "mean_high = high.mean()\n",
    "mean_low = low.mean()\n",
    "var_high = high.var(ddof=1)\n",
    "var_low = low.var(ddof=1)\n",
    "n_high = high.size\n",
    "m_low = low.size\n",
    "z_stat = (mean_high - mean_low)/np.sqrt(var_high/n_high + var_low/m_low)\n",
    "z_crit = sts.norm.ppf(1-0.05) #alpha = 5%"
   ]
  },
  {
   "cell_type": "code",
   "execution_count": 565,
   "id": "a4cdbaae",
   "metadata": {},
   "outputs": [
    {
     "name": "stdout",
     "output_type": "stream",
     "text": [
      "Гипотеза о равенстве мат.ожиданий отвергается\n"
     ]
    }
   ],
   "source": [
    "if z_stat < z_crit: #т.к. правосторонняя альтернатива\n",
    "    print('Гипотеза о равенстве мат.ожиданий НЕ отвергается')\n",
    "else: \n",
    "    print('Гипотеза о равенстве мат.ожиданий отвергается')"
   ]
  },
  {
   "cell_type": "markdown",
   "id": "ff9d5182",
   "metadata": {},
   "source": [
    "**Вывод:** Нулевая гипотеза о равенстве мат.ожиданий цен квартир, расположенных в высотках, и квартир в невысотных зданиях отвергается в пользу альтернативной. Наше предположение подтвердилось: **квартира в московской новостройке-высотке обойдется дороже, чем квартира с таким же метражом, но в менее высокой новостройке (<25 этажей)**"
   ]
  },
  {
   "cell_type": "markdown",
   "id": "4e54a6c6",
   "metadata": {},
   "source": [
    "## Гипотеза №4: в высотках квартиры премиум и бизнес класса"
   ]
  },
  {
   "cell_type": "markdown",
   "id": "bfa50d1e",
   "metadata": {},
   "source": [
    "Нас заинтересовал вопрос: от чего зависит класс квартиры?        \n",
    "Изучив материал о том, от чего конкретно зависит класс квартиры (см. ссылку), мы выдвинули гипотезу, что в высотках чаще встречаются квартиры премиум/бизнеса класса, в то время как в зданиях пониже чаще встречаются квартиры ниже классом (комфорт/без класса)  \n",
    "https://m2.ru/media/article/about-classes/"
   ]
  },
  {
   "cell_type": "markdown",
   "id": "1b3bcd86",
   "metadata": {},
   "source": [
    "Возьмем уровень значимости $\\alpha$ = 0.05    \n",
    "Сформулируем гипотезы:\n",
    "$$\n",
    "\\begin{aligned} \n",
    "&H_0: \\hspace{2mm} \\text{этажность дома(высотка/невысотка) и класс квартиры(премиум/бизнес) НЕ зависят друг от друга} \\hspace{2mm} \\\\\n",
    "&H_1: \\hspace{2mm} \\text{этажность дома(высотка/невысотка) и класс квартиры(премиум/бизнес) зависят друг от друга} \\hspace{2mm}\n",
    "\\end{aligned}\n",
    "$$"
   ]
  },
  {
   "cell_type": "code",
   "execution_count": 566,
   "id": "5862d1a2",
   "metadata": {},
   "outputs": [],
   "source": [
    "high_premium = data_without_miss[['Этажей в доме', 'Класс']]\n",
    "high_premium['Этажей в доме'] = np.where(high_premium['Этажей в доме'] >= 25, 'Высотка', 'НЕ высотка')\n",
    "high_premium['Класс'] = np.where((high_premium['Класс'] == 'Премиум')|(high_premium['Класс'] == 'Бизнес'), 'Премиум/бизнес', 'Комфорт/без класса')\n",
    "high_premium[''] = 0"
   ]
  },
  {
   "cell_type": "code",
   "execution_count": 567,
   "id": "2c555980",
   "metadata": {},
   "outputs": [
    {
     "data": {
      "text/html": [
       "<div>\n",
       "<style scoped>\n",
       "    .dataframe tbody tr th:only-of-type {\n",
       "        vertical-align: middle;\n",
       "    }\n",
       "\n",
       "    .dataframe tbody tr th {\n",
       "        vertical-align: top;\n",
       "    }\n",
       "\n",
       "    .dataframe thead tr th {\n",
       "        text-align: left;\n",
       "    }\n",
       "\n",
       "    .dataframe thead tr:last-of-type th {\n",
       "        text-align: right;\n",
       "    }\n",
       "</style>\n",
       "<table border=\"1\" class=\"dataframe\">\n",
       "  <thead>\n",
       "    <tr>\n",
       "      <th></th>\n",
       "      <th colspan=\"2\" halign=\"left\"></th>\n",
       "    </tr>\n",
       "    <tr>\n",
       "      <th>Этажей в доме</th>\n",
       "      <th>Высотка</th>\n",
       "      <th>НЕ высотка</th>\n",
       "    </tr>\n",
       "    <tr>\n",
       "      <th>Класс</th>\n",
       "      <th></th>\n",
       "      <th></th>\n",
       "    </tr>\n",
       "  </thead>\n",
       "  <tbody>\n",
       "    <tr>\n",
       "      <th>Комфорт/без класса</th>\n",
       "      <td>278</td>\n",
       "      <td>345</td>\n",
       "    </tr>\n",
       "    <tr>\n",
       "      <th>Премиум/бизнес</th>\n",
       "      <td>228</td>\n",
       "      <td>249</td>\n",
       "    </tr>\n",
       "  </tbody>\n",
       "</table>\n",
       "</div>"
      ],
      "text/plain": [
       "                                     \n",
       "Этажей в доме      Высотка НЕ высотка\n",
       "Класс                                \n",
       "Комфорт/без класса     278        345\n",
       "Премиум/бизнес         228        249"
      ]
     },
     "execution_count": 567,
     "metadata": {},
     "output_type": "execute_result"
    }
   ],
   "source": [
    "from pandas import pivot_table\n",
    "floors_type = pivot_table(high_premium, index= 'Класс', columns = 'Этажей в доме', aggfunc = 'count')\n",
    "floors_type"
   ]
  },
  {
   "cell_type": "markdown",
   "id": "4f79cfa6",
   "metadata": {},
   "source": [
    "Итак, мы хотим выявить **существует ли взаимосвязь между этажностью дома (высотка/не высотка) и классом квартиры (премиум или бизнес/комфорт или без класса)**    \n",
    "Из таблицы заметно, что **в высотках соотношений премиум/бизнес класса квартир к остальным примерно 50/50**, в то время как **в менее высоких зданиях преобладают квартиры комфорт/без класса**   \n",
    "Изначально мы хотели использовать точный тест Фишера, однако в качестве его предпосылок небольшой размер выборок.    \n",
    "В связи с этим для проверки гипотезы **используем критерий хи-квадрат Пирсона.**"
   ]
  },
  {
   "cell_type": "code",
   "execution_count": 568,
   "id": "c51ad737",
   "metadata": {},
   "outputs": [
    {
     "name": "stdout",
     "output_type": "stream",
     "text": [
      "p-value:  0.3239640146186774\n",
      "Не отвергаем гипотезу о независимости класса квартиры от высоты дома\n"
     ]
    }
   ],
   "source": [
    "from scipy.stats import chi2_contingency\n",
    "pv_floors_type = chi2_contingency(floors_type)[1]\n",
    "print('p-value: ', pv_floors_type)\n",
    "if pv_floors_type < 0.05:\n",
    "    print('Отвергаем гипотезу о независимости класса квартиры от высоты дома')\n",
    "else:\n",
    "    print('Не отвергаем гипотезу о независимости класса квартиры от высоты дома')"
   ]
  },
  {
   "cell_type": "markdown",
   "id": "76f7f978",
   "metadata": {},
   "source": [
    "**Вывод:** Мы получили достаточно высокое значение p-value, поэтому мы **принимаем гипотезу о независимости класса квартиры от этажности дома.** Значит, нельзя утверждать, что между признаком этажности дома (высотка/НЕ высотка) и классом квартиры существует прямая взаимосвязь"
   ]
  },
  {
   "cell_type": "markdown",
   "id": "a03854ca",
   "metadata": {},
   "source": [
    "## Гипотеза №5: в ЦАО квартиры премиум  и бизнес класса"
   ]
  },
  {
   "cell_type": "markdown",
   "id": "7f60d05d",
   "metadata": {},
   "source": [
    "С опорой на статью, с которой мы познакомились выше, можно выдвинуть гипотезу о том, что класс квартиры(Премиум или бизнес/комфорт или без класса) зависит от близости к центру (ЦАО/ НЕ ЦАО). В качестве самого близкого к центру округа мы взяли ЦАО    \n",
    "Предположим, что в ЦАО квартиры премиум и бизнес класса и проверим эту гипотезу"
   ]
  },
  {
   "cell_type": "markdown",
   "id": "0302c0c6",
   "metadata": {},
   "source": [
    "Возьмем уровень значимости $\\alpha$ = 0.05    \n",
    "Сформулируем гипотезы:\n",
    "$$\n",
    "\\begin{aligned} \n",
    "&H_0: \\hspace{2mm} \\text{округ (ЦАО/не ЦАО) и класс квартиры(премиум или бизнес/комфорт или без класса) НЕ зависят друг от друга} \\hspace{2mm} \\\\\n",
    "&H_1: \\hspace{2mm} \\text{округ (ЦАО/не ЦАО) и класс квартиры(премиум или бизнес/комфорт или без класса) зависят друг от друга} \\hspace{2mm}\n",
    "\\end{aligned}\n",
    "$$"
   ]
  },
  {
   "cell_type": "code",
   "execution_count": 569,
   "id": "eade745e",
   "metadata": {},
   "outputs": [
    {
     "data": {
      "text/html": [
       "<div>\n",
       "<style scoped>\n",
       "    .dataframe tbody tr th:only-of-type {\n",
       "        vertical-align: middle;\n",
       "    }\n",
       "\n",
       "    .dataframe tbody tr th {\n",
       "        vertical-align: top;\n",
       "    }\n",
       "\n",
       "    .dataframe thead th {\n",
       "        text-align: right;\n",
       "    }\n",
       "</style>\n",
       "<table border=\"1\" class=\"dataframe\">\n",
       "  <thead>\n",
       "    <tr style=\"text-align: right;\">\n",
       "      <th></th>\n",
       "      <th>Класс</th>\n",
       "      <th>Округ</th>\n",
       "      <th></th>\n",
       "    </tr>\n",
       "  </thead>\n",
       "  <tbody>\n",
       "    <tr>\n",
       "      <th>0</th>\n",
       "      <td>Премиум/бизнес</td>\n",
       "      <td>НЕ ЦАО</td>\n",
       "      <td>0</td>\n",
       "    </tr>\n",
       "    <tr>\n",
       "      <th>1</th>\n",
       "      <td>Премиум/бизнес</td>\n",
       "      <td>НЕ ЦАО</td>\n",
       "      <td>0</td>\n",
       "    </tr>\n",
       "    <tr>\n",
       "      <th>2</th>\n",
       "      <td>Премиум/бизнес</td>\n",
       "      <td>НЕ ЦАО</td>\n",
       "      <td>0</td>\n",
       "    </tr>\n",
       "    <tr>\n",
       "      <th>3</th>\n",
       "      <td>Премиум/бизнес</td>\n",
       "      <td>НЕ ЦАО</td>\n",
       "      <td>0</td>\n",
       "    </tr>\n",
       "    <tr>\n",
       "      <th>4</th>\n",
       "      <td>Премиум/бизнес</td>\n",
       "      <td>НЕ ЦАО</td>\n",
       "      <td>0</td>\n",
       "    </tr>\n",
       "    <tr>\n",
       "      <th>...</th>\n",
       "      <td>...</td>\n",
       "      <td>...</td>\n",
       "      <td>...</td>\n",
       "    </tr>\n",
       "    <tr>\n",
       "      <th>1095</th>\n",
       "      <td>Премиум/бизнес</td>\n",
       "      <td>НЕ ЦАО</td>\n",
       "      <td>0</td>\n",
       "    </tr>\n",
       "    <tr>\n",
       "      <th>1096</th>\n",
       "      <td>Комфорт/без класса</td>\n",
       "      <td>НЕ ЦАО</td>\n",
       "      <td>0</td>\n",
       "    </tr>\n",
       "    <tr>\n",
       "      <th>1097</th>\n",
       "      <td>Комфорт/без класса</td>\n",
       "      <td>НЕ ЦАО</td>\n",
       "      <td>0</td>\n",
       "    </tr>\n",
       "    <tr>\n",
       "      <th>1098</th>\n",
       "      <td>Комфорт/без класса</td>\n",
       "      <td>НЕ ЦАО</td>\n",
       "      <td>0</td>\n",
       "    </tr>\n",
       "    <tr>\n",
       "      <th>1099</th>\n",
       "      <td>Комфорт/без класса</td>\n",
       "      <td>НЕ ЦАО</td>\n",
       "      <td>0</td>\n",
       "    </tr>\n",
       "  </tbody>\n",
       "</table>\n",
       "<p>1100 rows × 3 columns</p>\n",
       "</div>"
      ],
      "text/plain": [
       "                   Класс   Округ   \n",
       "0         Премиум/бизнес  НЕ ЦАО  0\n",
       "1         Премиум/бизнес  НЕ ЦАО  0\n",
       "2         Премиум/бизнес  НЕ ЦАО  0\n",
       "3         Премиум/бизнес  НЕ ЦАО  0\n",
       "4         Премиум/бизнес  НЕ ЦАО  0\n",
       "...                  ...     ... ..\n",
       "1095      Премиум/бизнес  НЕ ЦАО  0\n",
       "1096  Комфорт/без класса  НЕ ЦАО  0\n",
       "1097  Комфорт/без класса  НЕ ЦАО  0\n",
       "1098  Комфорт/без класса  НЕ ЦАО  0\n",
       "1099  Комфорт/без класса  НЕ ЦАО  0\n",
       "\n",
       "[1100 rows x 3 columns]"
      ]
     },
     "execution_count": 569,
     "metadata": {},
     "output_type": "execute_result"
    }
   ],
   "source": [
    "cao_premium = data_without_miss[['Класс', 'Округ']]\n",
    "cao_premium['Класс'] = np.where((cao_premium['Класс'] == 'Премиум')|(cao_premium['Класс'] == 'Бизнес'), 'Премиум/бизнес', 'Комфорт/без класса')\n",
    "cao_premium['Округ'] = np.where(cao_premium['Округ'] == 'ЦАО', 'ЦАО', 'НЕ ЦАО')\n",
    "cao_premium[''] = 0\n",
    "cao_premium"
   ]
  },
  {
   "cell_type": "code",
   "execution_count": 570,
   "id": "1218eeb5",
   "metadata": {},
   "outputs": [
    {
     "data": {
      "text/html": [
       "<div>\n",
       "<style scoped>\n",
       "    .dataframe tbody tr th:only-of-type {\n",
       "        vertical-align: middle;\n",
       "    }\n",
       "\n",
       "    .dataframe tbody tr th {\n",
       "        vertical-align: top;\n",
       "    }\n",
       "\n",
       "    .dataframe thead tr th {\n",
       "        text-align: left;\n",
       "    }\n",
       "\n",
       "    .dataframe thead tr:last-of-type th {\n",
       "        text-align: right;\n",
       "    }\n",
       "</style>\n",
       "<table border=\"1\" class=\"dataframe\">\n",
       "  <thead>\n",
       "    <tr>\n",
       "      <th></th>\n",
       "      <th colspan=\"2\" halign=\"left\"></th>\n",
       "    </tr>\n",
       "    <tr>\n",
       "      <th>Округ</th>\n",
       "      <th>НЕ ЦАО</th>\n",
       "      <th>ЦАО</th>\n",
       "    </tr>\n",
       "    <tr>\n",
       "      <th>Класс</th>\n",
       "      <th></th>\n",
       "      <th></th>\n",
       "    </tr>\n",
       "  </thead>\n",
       "  <tbody>\n",
       "    <tr>\n",
       "      <th>Комфорт/без класса</th>\n",
       "      <td>621</td>\n",
       "      <td>2</td>\n",
       "    </tr>\n",
       "    <tr>\n",
       "      <th>Премиум/бизнес</th>\n",
       "      <td>449</td>\n",
       "      <td>28</td>\n",
       "    </tr>\n",
       "  </tbody>\n",
       "</table>\n",
       "</div>"
      ],
      "text/plain": [
       "                             \n",
       "Округ              НЕ ЦАО ЦАО\n",
       "Класс                        \n",
       "Комфорт/без класса    621   2\n",
       "Премиум/бизнес        449  28"
      ]
     },
     "execution_count": 570,
     "metadata": {},
     "output_type": "execute_result"
    }
   ],
   "source": [
    "cao_type = pivot_table(cao_premium, index= 'Класс', columns = 'Округ', aggfunc = 'count')\n",
    "cao_type"
   ]
  },
  {
   "cell_type": "markdown",
   "id": "b2101a10",
   "metadata": {},
   "source": [
    "Из таблицы можно заметить, что соотношение квартир класса премиум/бизнес в новостройках ЦАО гораздо выше. В новостройках, расположенных вне ЦАО, преобладают квартиры класса комфорт/без класса.\n",
    "**Для проверки гипотезы будем использовать точный тест Фишера,** так как в данном случае размер выборки квартир в ЦАО достаточно невелик, что препятствует использованию хи-квадрата Пирсона, которым мы воспользовались для проверки предыдущей гипотезы    \n",
    "https://www.codecamp.ru/blog/fishers-exact-test-python/"
   ]
  },
  {
   "cell_type": "code",
   "execution_count": 571,
   "id": "527df5c6",
   "metadata": {},
   "outputs": [
    {
     "name": "stdout",
     "output_type": "stream",
     "text": [
      "p-value:  6.720874813574695e-09\n",
      "Отвергаем гипотезу о независимости класса квартиры от округа (ЦАО/НЕ ЦАО)\n"
     ]
    }
   ],
   "source": [
    "pv_cao_type = sts.fisher_exact(cao_type)[1]\n",
    "print('p-value: ', pv_cao_type)\n",
    "if pv_cao_type < 0.05:\n",
    "    print('Отвергаем гипотезу о независимости класса квартиры от округа (ЦАО/НЕ ЦАО)')\n",
    "else:\n",
    "    print('Не отвергаем гипотезу о независимости класса квартиры от округа (ЦАО/НЕ ЦАО)')\n"
   ]
  },
  {
   "cell_type": "markdown",
   "id": "fbbd7e49",
   "metadata": {},
   "source": [
    "**Вывод:** Мы получили очень маленькое значение p-value, поэтому мы **принимаем альтернативную гипотезу** и делаем вывод о **наличии прямой взаимосвязи между округом(ЦАО/НЕ ЦАО) и классом квартиры.** Частота класса премиум/бизнес у квартир, расположенных в ЦАО, статистически значимо выше, чем у квартир не в ЦАО."
   ]
  },
  {
   "cell_type": "markdown",
   "id": "1dfa2398",
   "metadata": {},
   "source": [
    "## Гипотеза №6: разброс цен на квартиры не зависит от округа"
   ]
  },
  {
   "cell_type": "markdown",
   "id": "a6fd1cfd",
   "metadata": {},
   "source": [
    "Нам стало интересно, зависит ли разброс цен на квартиру от округа?    \n",
    "Можно предположить, что дисперсия стоимости 1кв.м одинакова для всех квартир, расположенных в московских новостройках, независимо от округа.   \n",
    "Попробуем проверить эту гипотезу. "
   ]
  },
  {
   "cell_type": "markdown",
   "id": "28f1c706",
   "metadata": {},
   "source": [
    "$$\n",
    "\\begin{aligned} \n",
    "&H_0: \\hspace{2mm} \\text{разброс цен на квартиры НЕ зависит от округа} \\hspace{2mm} \\\\\n",
    "&H_1: \\hspace{2mm} \\text{разброс цен на квартиры зависит от округа} \\hspace{2mm}\n",
    "\\end{aligned}\n",
    "$$"
   ]
  },
  {
   "cell_type": "markdown",
   "id": "b2631194",
   "metadata": {},
   "source": [
    "Для проверки гипотезы будем использовать тест Левена, так как он достаточно устойчив к ненормальному распределению (каким и обладает в нашем случае цена за 1 кв.м)    \n",
    "https://www.codecamp.ru/blog/levenes-test-python/"
   ]
  },
  {
   "cell_type": "markdown",
   "id": "d1e04ddb",
   "metadata": {},
   "source": [
    "Несмотря на то, что существует три различных варианта теста Левена, для асиммитричных распределений рекомендуется «медиана».\n",
    "И хотя в некоторых округах цена за 1 кв.м может быть похожа на нормальную случайную величину, мы пренебрежем этим, так как преимущественно распределение этой случайной величины все же не похоже на нормальное и содержит асимметрию данных"
   ]
  },
  {
   "cell_type": "code",
   "execution_count": 572,
   "id": "d6fb8610",
   "metadata": {},
   "outputs": [],
   "source": [
    "#возьмем срезы по всем округам\n",
    "nao = data_without_miss[data_without_miss['Округ'] == 'НАО (Новомосковский)']['Цена за 1 кв.м']\n",
    "szao = data_without_miss[data_without_miss['Округ'] == 'СЗАО']['Цена за 1 кв.м']\n",
    "zao = data_without_miss[data_without_miss['Округ'] == 'ЗАО']['Цена за 1 кв.м']\n",
    "sao = data_without_miss[data_without_miss['Округ'] == 'САО']['Цена за 1 кв.м']\n",
    "uao = data_without_miss[data_without_miss['Округ'] == 'ЮАО']['Цена за 1 кв.м']\n",
    "uvao = data_without_miss[data_without_miss['Округ'] == 'ЮВАО']['Цена за 1 кв.м']\n",
    "svao = data_without_miss[data_without_miss['Округ'] == 'СВАО']['Цена за 1 кв.м']\n",
    "vao = data_without_miss[data_without_miss['Округ'] == 'ВАО']['Цена за 1 кв.м']\n",
    "uzao = data_without_miss[data_without_miss['Округ'] == 'ЮЗАО']['Цена за 1 кв.м']\n",
    "cao = data_without_miss[data_without_miss['Округ'] == 'ЦАО']['Цена за 1 кв.м']\n",
    "zel = data_without_miss[data_without_miss['Округ'] == 'ЗелАО']['Цена за 1 кв.м']\n",
    "tao = data_without_miss[data_without_miss['Округ'] == 'ТАО (Троицкий)']['Цена за 1 кв.м']\n",
    "kras = data_without_miss[data_without_miss['Округ'] == 'Красногорск']['Цена за 1 кв.м']"
   ]
  },
  {
   "cell_type": "code",
   "execution_count": 573,
   "id": "cb62c332",
   "metadata": {},
   "outputs": [
    {
     "name": "stdout",
     "output_type": "stream",
     "text": [
      "p-value:  1.4340848360898806e-37\n",
      "Отвергаем гипотезу о равности дисперсий цен в разных округах\n"
     ]
    }
   ],
   "source": [
    "#Levene's test centered at the median\n",
    "pv_var_okrug = sts.levene(nao, szao, zao, sao, uao, uvao, svao, vao, uzao, cao, zel, tao, kras, center='median')[1]\n",
    "print('p-value: ', pv_var_okrug)\n",
    "if pv_var_okrug < 0.05:\n",
    "    print('Отвергаем гипотезу о равности дисперсий цен в разных округах')\n",
    "else:\n",
    "    print('Не отвергаем гипотезу о равности дисперсий цен в разных округах')"
   ]
  },
  {
   "cell_type": "markdown",
   "id": "77cbe918",
   "metadata": {},
   "source": [
    "**Вывод:** значение p-value, полученное по выборкам с ценами за 1 кв.м по разным округам с помощью теста Левена, очень невелико, следовательно, **мы отвергаем гипотезу о том, что разброс цен во всех округах одинаковый.** Можно предположить, что это связано с тем, что в очень дорогих и престижных районах Москвы стоимость квадратного метра может варьироваться от очень высокой до гигантски высокой:) В то время как в относительно недорогих округах разброс цен будет меньше"
   ]
  }
 ],
 "metadata": {
  "kernelspec": {
   "display_name": "Python 3 (ipykernel)",
   "language": "python",
   "name": "python3"
  },
  "language_info": {
   "codemirror_mode": {
    "name": "ipython",
    "version": 3
   },
   "file_extension": ".py",
   "mimetype": "text/x-python",
   "name": "python",
   "nbconvert_exporter": "python",
   "pygments_lexer": "ipython3",
   "version": "3.9.7"
  }
 },
 "nbformat": 4,
 "nbformat_minor": 5
}
