{
 "cells": [
  {
   "cell_type": "code",
   "execution_count": 2,
   "id": "3d024c89",
   "metadata": {},
   "outputs": [],
   "source": [
    "from selenium import webdriver\n",
    "import pandas as pd\n",
    "import numpy as np\n",
    "from selenium.webdriver.common.by import By\n",
    "import time   \n",
    "\n",
    "# https://pythonist.ru/web-scraping-na-python-pri-pomoshhi-selenium-posobie-dlya-nachinayushhih/\n",
    "# https://habr.com/ru/articles/494544/\n",
    "# https://happypython.ru/2022/11/27/selenium-chromedriver-find-elements/\n",
    "# https://www.youtube.com/watch?v=rIJ5Glk4geM"
   ]
  },
  {
   "cell_type": "code",
   "execution_count": 5,
   "id": "80bb223e",
   "metadata": {},
   "outputs": [],
   "source": [
    "driver = webdriver.Chrome()\n",
    "\n",
    "url = 'https://realty.ya.ru/moskva_i_moskovskaya_oblast/kupit/kvartira/?newFlat=YES&page=0&deliveryDate=FINISHED&priceMax=35000000'\n",
    "driver.get(url)\n",
    "    \n",
    "time.sleep(5)"
   ]
  },
  {
   "cell_type": "code",
   "execution_count": 73,
   "id": "cd8178df",
   "metadata": {},
   "outputs": [],
   "source": [
    "# Все объявления на первой странице (их всего 25)\n",
    "flats = driver.find_elements(By.CLASS_NAME, 'OffersSerpItem__link')\n",
    "flats = flats[1::2] # почему-то кликабельная каждая вторая ссылка, но зато открывает каждое предложение на странице"
   ]
  },
  {
   "cell_type": "code",
   "execution_count": 75,
   "id": "d45e1e4a",
   "metadata": {},
   "outputs": [
    {
     "data": {
      "text/plain": [
       "25"
      ]
     },
     "execution_count": 75,
     "metadata": {},
     "output_type": "execute_result"
    }
   ],
   "source": [
    "len(flats)"
   ]
  },
  {
   "cell_type": "code",
   "execution_count": 51,
   "id": "a1cf8549",
   "metadata": {},
   "outputs": [],
   "source": [
    "page = flats[0].click() # открываем первое предложение"
   ]
  },
  {
   "cell_type": "code",
   "execution_count": 54,
   "id": "08ea7c4a",
   "metadata": {},
   "outputs": [],
   "source": [
    "driver.switch_to.window(driver.window_handles[1])"
   ]
  },
  {
   "cell_type": "code",
   "execution_count": 55,
   "id": "6f3d84b5",
   "metadata": {},
   "outputs": [
    {
     "data": {
      "text/plain": [
       "['29,5 м²\\nобщая',\n",
       " '16,8 м²\\nжилая',\n",
       " '3,8 м²\\nкухня',\n",
       " '18 этаж\\nиз 22',\n",
       " '2,87 м\\nпотолки',\n",
       " '2022 год\\nгод постройки']"
      ]
     },
     "execution_count": 55,
     "metadata": {},
     "output_type": "execute_result"
    }
   ],
   "source": [
    "features_1 = [x.text for x in driver.find_elements(By.CLASS_NAME, 'OfferCardHighlights__feature--3FbLx')]\n",
    "features_1"
   ]
  },
  {
   "cell_type": "code",
   "execution_count": 58,
   "id": "74e5569b",
   "metadata": {},
   "outputs": [
    {
     "data": {
      "text/plain": [
       "['29,5 м², 1-комнатные апартаменты']"
      ]
     },
     "execution_count": 58,
     "metadata": {},
     "output_type": "execute_result"
    }
   ],
   "source": [
    "#нужно вывести еще кол-во комнат, ближацшее метро и время до метро, застройщика\n",
    "rooms = [x.text for x in driver.find_elements(By.CLASS_NAME, 'OfferCardSummaryInfo__description--1eQMI ')]\n",
    "rooms"
   ]
  },
  {
   "cell_type": "code",
   "execution_count": 59,
   "id": "4cd4cbd5",
   "metadata": {},
   "outputs": [
    {
     "data": {
      "text/plain": [
       "['Волоколамское шоссе, 71/22к1',\n",
       " 'Спартак \\n5 мин.',\n",
       " 'Тушинская \\n8 мин.',\n",
       " 'Щукинская \\n10 мин.',\n",
       " 'Трикотажная \\n15 мин.']"
      ]
     },
     "execution_count": 59,
     "metadata": {},
     "output_type": "execute_result"
    }
   ],
   "source": [
    "metro = [x.text for x in driver.find_elements(By.CLASS_NAME, 'CardLocation__addressItem--ARCpY')]\n",
    "metro"
   ]
  },
  {
   "cell_type": "code",
   "execution_count": 63,
   "id": "d89114b2",
   "metadata": {},
   "outputs": [
    {
     "data": {
      "text/plain": [
       "['Застройщик «ГК ФСК»']"
      ]
     },
     "execution_count": 63,
     "metadata": {},
     "output_type": "execute_result"
    }
   ],
   "source": [
    "bilder = [x.text for x in driver.find_elements(By.CLASS_NAME, 'OfferCardDevBadge__name--2SQcC')]\n",
    "bilder"
   ]
  },
  {
   "cell_type": "code",
   "execution_count": 64,
   "id": "67479554",
   "metadata": {},
   "outputs": [
    {
     "data": {
      "text/plain": [
       "['11 084 035 ₽']"
      ]
     },
     "execution_count": 64,
     "metadata": {},
     "output_type": "execute_result"
    }
   ],
   "source": [
    "cost =[x.text for x in driver.find_elements(By.CLASS_NAME, 'OfferCardSummaryInfo__priceWithLeftMargin--dZLTe')] \n",
    "cost"
   ]
  },
  {
   "cell_type": "code",
   "execution_count": 76,
   "id": "db2259e2",
   "metadata": {},
   "outputs": [],
   "source": [
    "s_com = []\n",
    "s_liv = []\n",
    "kitchen = []\n",
    "level = []\n",
    "year = []\n",
    "r = []\n",
    "address = []\n",
    "nearest_metro = []\n",
    "num_metro = []\n",
    "developer = []\n",
    "price = []\n",
    "features_1 = []\n",
    "\n",
    "for flat in flats:\n",
    "    flat.click()\n",
    "    driver.switch_to.window(driver.window_handles[1])\n",
    "    cost = [x.text for x in driver.find_elements(By.CLASS_NAME, 'OfferCardSummaryInfo__priceWithLeftMargin--dZLTe')]\n",
    "    features = [x.text for x in driver.find_elements(By.CLASS_NAME, 'OfferCardHighlights__feature--3FbLx')]\n",
    "    rooms = [x.text for x in driver.find_elements(By.CLASS_NAME, 'OfferCardSummaryInfo__description--1eQMI ')]\n",
    "    metro = [x.text for x in driver.find_elements(By.CLASS_NAME, 'CardLocation__addressItem--ARCpY')]\n",
    "    bilder = [x.text for x in driver.find_elements(By.CLASS_NAME, 'OfferCardDevBadge__name--2SQcC')]\n",
    "    price.append(cost)\n",
    "    features_1.append(features)\n",
    "    r.append(rooms)\n",
    "    address.append(metro)\n",
    "    developer.append(bilder)\n",
    "    driver.close()\n",
    "    driver.switch_to.window(driver.window_handles[0])"
   ]
  },
  {
   "cell_type": "code",
   "execution_count": null,
   "id": "a41deb8c",
   "metadata": {},
   "outputs": [],
   "source": [
    "def ya_nedv(page):\n",
    "    driver.get(f'https://realty.ya.ru/moskva_i_moskovskaya_oblast/kupit/kvartira/?newFlat=YES&page={page}&deliveryDate=FINISHED&priceMax=35000000')\n",
    "    time.sleep(5)\n",
    "    \n",
    "    flats = driver.find_elements(By.CLASS_NAME, 'OffersSerpItem__link')\n",
    "    flats = flats[1::2]"
   ]
  },
  {
   "cell_type": "code",
   "execution_count": 78,
   "id": "302c8600",
   "metadata": {},
   "outputs": [],
   "source": [
    "driver.get('https://realty.ya.ru/moskva_i_moskovskaya_oblast/kupit/kvartira/?newFlat=YES&page=5&deliveryDate=FINISHED&priceMax=35000000')"
   ]
  },
  {
   "cell_type": "code",
   "execution_count": null,
   "id": "fa431913",
   "metadata": {},
   "outputs": [],
   "source": [
    "# при открытии не всегда выскакивает капча, ео выскакивает реклама и надо настроить так, чтобы программа нажимала на крестик"
   ]
  }
 ],
 "metadata": {
  "kernelspec": {
   "display_name": "Python 3 (ipykernel)",
   "language": "python",
   "name": "python3"
  },
  "language_info": {
   "codemirror_mode": {
    "name": "ipython",
    "version": 3
   },
   "file_extension": ".py",
   "mimetype": "text/x-python",
   "name": "python",
   "nbconvert_exporter": "python",
   "pygments_lexer": "ipython3",
   "version": "3.9.7"
  }
 },
 "nbformat": 4,
 "nbformat_minor": 5
}
